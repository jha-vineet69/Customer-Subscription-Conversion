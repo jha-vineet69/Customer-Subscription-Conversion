{
  "nbformat": 4,
  "nbformat_minor": 0,
  "metadata": {
    "kernelspec": {
      "display_name": "Python 3",
      "language": "python",
      "name": "python3"
    },
    "language_info": {
      "codemirror_mode": {
        "name": "ipython",
        "version": 3
      },
      "file_extension": ".py",
      "mimetype": "text/x-python",
      "name": "python",
      "nbconvert_exporter": "python",
      "pygments_lexer": "ipython3",
      "version": "3.7.6"
    },
    "colab": {
      "name": "Conversion_Analysis.ipynb",
      "provenance": [],
      "collapsed_sections": [],
      "include_colab_link": true
    },
    "accelerator": "GPU"
  },
  "cells": [
    {
      "cell_type": "markdown",
      "metadata": {
        "id": "view-in-github",
        "colab_type": "text"
      },
      "source": [
        "<a href=\"https://colab.research.google.com/github/jha-vineet69/Customer-Subscription-Conversion/blob/main/Conversion_Analysis.ipynb\" target=\"_parent\"><img src=\"https://colab.research.google.com/assets/colab-badge.svg\" alt=\"Open In Colab\"/></a>"
      ]
    },
    {
      "cell_type": "markdown",
      "metadata": {
        "ExecuteTime": {
          "end_time": "2021-02-10T08:44:51.874608Z",
          "start_time": "2021-02-10T08:44:51.869614Z"
        },
        "id": "hqsPFVoMKNgI"
      },
      "source": [
        "# <center>DIRECTING CUSTOMERS TO SUBSCRIPTION PRODUCTS</center>\n",
        "## <center>THROUGH APP BEHAVIOUR ANALYSIS</center>\n",
        "### <center>By Vineet Jha</center>\n",
        "<figure>\n",
        "<center>\n",
        "<img src='https://drive.google.com/uc?id=1cC34IGBGDC1UmgCC5ct0Dv1hjXmSWBpC'/>\n",
        "</center>\n",
        "</figure>"
      ]
    },
    {
      "cell_type": "markdown",
      "metadata": {
        "id": "NwsUIlb7MAJB"
      },
      "source": [
        "# Introduction\r\n",
        "\r\n",
        "In today’s market, many companies have a mobile presence. Often, these companies provide free products/services in their mobile apps in an attempt to transition their customers to a paid membership.\r\n",
        "Some examples of paid products, which originate from free ones, are YouTube Premium, Pandora Premium, Audible Subscription, and You Need a Budget. Since marketing efforts are never free, these companies need to know exactly who to target with offers and promotions.\r\n",
        "\r\n",
        "* Market: The target audience is customers who use a company’s free product. In this case study, this refers to users who installed (and used) the company’s free mobile app.\r\n",
        "\r\n",
        "* Product: The paid memberships often provide enhanced versions of the free products already given for free, alongside new features. For example, Youtube Premium allows you to leave the app while still listening to a video.\r\n",
        "\r\n",
        "* Goal: The objective of this model is to predict which users will not subscribe to the paid membership, so that greater marketing efforts can go into trying to “convert” them to paid users."
      ]
    },
    {
      "cell_type": "markdown",
      "metadata": {
        "id": "aGZXIbwxMkYK"
      },
      "source": [
        "# Application"
      ]
    },
    {
      "cell_type": "markdown",
      "metadata": {
        "id": "BhvJPNWTNLK6"
      },
      "source": [
        "### a).  Problem Description\r\n",
        "\r\n",
        "* In this Case Study we will be working for a fintech company that wants to provide its customers with a paid mobile app subscription that will allow them to track all of their finances in one place. To attract customers, the company releases a free version of their app with some of the main features unlocked.\r\n",
        "\r\n",
        "* The company has tasked you to identify which users will most likely NOT enroll in the paid product, so that additional offers can be given to them. Because of the costs of these offers, the company does not want to offer them to everybody, especially customers who were going to enroll anyways."
      ]
    },
    {
      "cell_type": "markdown",
      "metadata": {
        "id": "3tIIdcIYMpeM"
      },
      "source": [
        "### b).  Dataset Description\r\n",
        "\r\n",
        "* By working for the company, we have access to each customer's app behavior data. This data allows us to see the date and time of app installation, as well as the features the users engaged with within the app. App behavior is characterized as the list of app screens the user looked at, and whether the user played the financial mini-games available.\r\n",
        "\r\n",
        "* The app usage data is only from the user's first day in the app. This limitation exists because users can enjoy a 24-hour free trial of the premium features, and the company wants to target them with new offers shortly after the trial is over. The dataset contains record of 50K such users. "
      ]
    },
    {
      "cell_type": "code",
      "metadata": {
        "ExecuteTime": {
          "end_time": "2021-02-10T08:33:05.455177Z",
          "start_time": "2021-02-10T08:33:03.700757Z"
        },
        "id": "f3i9Pp3QKNgK"
      },
      "source": [
        "#### Importing Libraries ####\n",
        "\n",
        "import pandas as pd\n",
        "from dateutil import parser\n",
        "import matplotlib.pyplot as plt\n",
        "import numpy as np\n",
        "import seaborn as sn\n",
        "from sklearn.preprocessing import StandardScaler\n",
        "import time"
      ],
      "execution_count": null,
      "outputs": []
    },
    {
      "cell_type": "code",
      "metadata": {
        "ExecuteTime": {
          "end_time": "2021-02-10T08:33:05.646051Z",
          "start_time": "2021-02-10T08:33:05.457150Z"
        },
        "id": "aaet0aonKNgK"
      },
      "source": [
        "dataset = pd.read_csv('https://raw.githubusercontent.com/jha-vineet69/Customer-Subscription-Conversion/main/appdata10.csv')"
      ],
      "execution_count": null,
      "outputs": []
    },
    {
      "cell_type": "code",
      "metadata": {
        "ExecuteTime": {
          "end_time": "2021-02-10T08:33:05.677986Z",
          "start_time": "2021-02-10T08:33:05.649028Z"
        },
        "id": "q4_9ZYfQKNgK",
        "colab": {
          "base_uri": "https://localhost:8080/",
          "height": 343
        },
        "outputId": "dc952d84-bc05-4721-e28b-895a011477dc"
      },
      "source": [
        "#### EDA ####\n",
        "dataset.head(10) # Viewing the Data"
      ],
      "execution_count": null,
      "outputs": [
        {
          "output_type": "execute_result",
          "data": {
            "text/html": [
              "<div>\n",
              "<style scoped>\n",
              "    .dataframe tbody tr th:only-of-type {\n",
              "        vertical-align: middle;\n",
              "    }\n",
              "\n",
              "    .dataframe tbody tr th {\n",
              "        vertical-align: top;\n",
              "    }\n",
              "\n",
              "    .dataframe thead th {\n",
              "        text-align: right;\n",
              "    }\n",
              "</style>\n",
              "<table border=\"1\" class=\"dataframe\">\n",
              "  <thead>\n",
              "    <tr style=\"text-align: right;\">\n",
              "      <th></th>\n",
              "      <th>user</th>\n",
              "      <th>first_open</th>\n",
              "      <th>dayofweek</th>\n",
              "      <th>hour</th>\n",
              "      <th>age</th>\n",
              "      <th>screen_list</th>\n",
              "      <th>numscreens</th>\n",
              "      <th>minigame</th>\n",
              "      <th>used_premium_feature</th>\n",
              "      <th>enrolled</th>\n",
              "      <th>enrolled_date</th>\n",
              "      <th>liked</th>\n",
              "    </tr>\n",
              "  </thead>\n",
              "  <tbody>\n",
              "    <tr>\n",
              "      <th>0</th>\n",
              "      <td>235136</td>\n",
              "      <td>12-27-12 2:14 AM</td>\n",
              "      <td>3</td>\n",
              "      <td>02:00:00</td>\n",
              "      <td>23</td>\n",
              "      <td>idscreen,joinscreen,Cycle,product_review,ScanP...</td>\n",
              "      <td>15</td>\n",
              "      <td>0</td>\n",
              "      <td>0</td>\n",
              "      <td>0</td>\n",
              "      <td>NaN</td>\n",
              "      <td>0</td>\n",
              "    </tr>\n",
              "    <tr>\n",
              "      <th>1</th>\n",
              "      <td>333588</td>\n",
              "      <td>12-2-12 1:16 AM</td>\n",
              "      <td>6</td>\n",
              "      <td>01:00:00</td>\n",
              "      <td>24</td>\n",
              "      <td>joinscreen,product_review,product_review2,Scan...</td>\n",
              "      <td>13</td>\n",
              "      <td>0</td>\n",
              "      <td>0</td>\n",
              "      <td>0</td>\n",
              "      <td>NaN</td>\n",
              "      <td>0</td>\n",
              "    </tr>\n",
              "    <tr>\n",
              "      <th>2</th>\n",
              "      <td>254414</td>\n",
              "      <td>3-19-13 7:19 PM</td>\n",
              "      <td>1</td>\n",
              "      <td>19:00:00</td>\n",
              "      <td>23</td>\n",
              "      <td>Splash,Cycle,Loan</td>\n",
              "      <td>3</td>\n",
              "      <td>0</td>\n",
              "      <td>1</td>\n",
              "      <td>0</td>\n",
              "      <td>NaN</td>\n",
              "      <td>1</td>\n",
              "    </tr>\n",
              "    <tr>\n",
              "      <th>3</th>\n",
              "      <td>234192</td>\n",
              "      <td>7-5-13 4:08 PM</td>\n",
              "      <td>4</td>\n",
              "      <td>16:00:00</td>\n",
              "      <td>28</td>\n",
              "      <td>product_review,Home,product_review,Loan3,Finan...</td>\n",
              "      <td>40</td>\n",
              "      <td>0</td>\n",
              "      <td>0</td>\n",
              "      <td>1</td>\n",
              "      <td>7-5-13 4:11 PM</td>\n",
              "      <td>0</td>\n",
              "    </tr>\n",
              "    <tr>\n",
              "      <th>4</th>\n",
              "      <td>51549</td>\n",
              "      <td>2-26-13 6:50 PM</td>\n",
              "      <td>1</td>\n",
              "      <td>18:00:00</td>\n",
              "      <td>31</td>\n",
              "      <td>idscreen,joinscreen,Cycle,Credit3Container,Sca...</td>\n",
              "      <td>32</td>\n",
              "      <td>0</td>\n",
              "      <td>0</td>\n",
              "      <td>1</td>\n",
              "      <td>2-26-13 6:56 PM</td>\n",
              "      <td>1</td>\n",
              "    </tr>\n",
              "    <tr>\n",
              "      <th>5</th>\n",
              "      <td>56480</td>\n",
              "      <td>4-3-13 9:58 AM</td>\n",
              "      <td>2</td>\n",
              "      <td>09:00:00</td>\n",
              "      <td>20</td>\n",
              "      <td>idscreen,Cycle,Home,ScanPreview,VerifyPhone,Ve...</td>\n",
              "      <td>14</td>\n",
              "      <td>0</td>\n",
              "      <td>0</td>\n",
              "      <td>1</td>\n",
              "      <td>4-3-13 9:59 AM</td>\n",
              "      <td>0</td>\n",
              "    </tr>\n",
              "    <tr>\n",
              "      <th>6</th>\n",
              "      <td>144649</td>\n",
              "      <td>12-25-12 2:33 AM</td>\n",
              "      <td>1</td>\n",
              "      <td>02:00:00</td>\n",
              "      <td>35</td>\n",
              "      <td>product_review,product_review2,ScanPreview</td>\n",
              "      <td>3</td>\n",
              "      <td>0</td>\n",
              "      <td>0</td>\n",
              "      <td>0</td>\n",
              "      <td>NaN</td>\n",
              "      <td>0</td>\n",
              "    </tr>\n",
              "    <tr>\n",
              "      <th>7</th>\n",
              "      <td>249366</td>\n",
              "      <td>12-11-12 3:07 AM</td>\n",
              "      <td>1</td>\n",
              "      <td>03:00:00</td>\n",
              "      <td>26</td>\n",
              "      <td>Splash,Cycle,Home,Credit3Container,Credit3Dash...</td>\n",
              "      <td>41</td>\n",
              "      <td>0</td>\n",
              "      <td>1</td>\n",
              "      <td>0</td>\n",
              "      <td>NaN</td>\n",
              "      <td>0</td>\n",
              "    </tr>\n",
              "    <tr>\n",
              "      <th>8</th>\n",
              "      <td>372004</td>\n",
              "      <td>3-20-13 2:22 PM</td>\n",
              "      <td>2</td>\n",
              "      <td>14:00:00</td>\n",
              "      <td>29</td>\n",
              "      <td>product_review,product_review2,ScanPreview,Ver...</td>\n",
              "      <td>33</td>\n",
              "      <td>1</td>\n",
              "      <td>1</td>\n",
              "      <td>1</td>\n",
              "      <td>4-27-13 10:24 PM</td>\n",
              "      <td>0</td>\n",
              "    </tr>\n",
              "    <tr>\n",
              "      <th>9</th>\n",
              "      <td>338013</td>\n",
              "      <td>4-26-13 6:22 PM</td>\n",
              "      <td>4</td>\n",
              "      <td>18:00:00</td>\n",
              "      <td>26</td>\n",
              "      <td>Home,Loan2,product_review,product_review,produ...</td>\n",
              "      <td>19</td>\n",
              "      <td>0</td>\n",
              "      <td>0</td>\n",
              "      <td>1</td>\n",
              "      <td>4-26-13 6:31 PM</td>\n",
              "      <td>0</td>\n",
              "    </tr>\n",
              "  </tbody>\n",
              "</table>\n",
              "</div>"
            ],
            "text/plain": [
              "     user        first_open  dayofweek  ... enrolled     enrolled_date liked\n",
              "0  235136  12-27-12 2:14 AM          3  ...        0               NaN     0\n",
              "1  333588   12-2-12 1:16 AM          6  ...        0               NaN     0\n",
              "2  254414   3-19-13 7:19 PM          1  ...        0               NaN     1\n",
              "3  234192    7-5-13 4:08 PM          4  ...        1    7-5-13 4:11 PM     0\n",
              "4   51549   2-26-13 6:50 PM          1  ...        1   2-26-13 6:56 PM     1\n",
              "5   56480    4-3-13 9:58 AM          2  ...        1    4-3-13 9:59 AM     0\n",
              "6  144649  12-25-12 2:33 AM          1  ...        0               NaN     0\n",
              "7  249366  12-11-12 3:07 AM          1  ...        0               NaN     0\n",
              "8  372004   3-20-13 2:22 PM          2  ...        1  4-27-13 10:24 PM     0\n",
              "9  338013   4-26-13 6:22 PM          4  ...        1   4-26-13 6:31 PM     0\n",
              "\n",
              "[10 rows x 12 columns]"
            ]
          },
          "metadata": {
            "tags": []
          },
          "execution_count": 3
        }
      ]
    },
    {
      "cell_type": "code",
      "metadata": {
        "ExecuteTime": {
          "end_time": "2021-02-10T08:33:05.741782Z",
          "start_time": "2021-02-10T08:33:05.680944Z"
        },
        "id": "CVVrN6txKNgL",
        "colab": {
          "base_uri": "https://localhost:8080/",
          "height": 284
        },
        "outputId": "d40919af-b40f-44e1-ea3a-a7ecdf99321c"
      },
      "source": [
        "dataset.describe() # Distribution of Numerical Variables"
      ],
      "execution_count": null,
      "outputs": [
        {
          "output_type": "execute_result",
          "data": {
            "text/html": [
              "<div>\n",
              "<style scoped>\n",
              "    .dataframe tbody tr th:only-of-type {\n",
              "        vertical-align: middle;\n",
              "    }\n",
              "\n",
              "    .dataframe tbody tr th {\n",
              "        vertical-align: top;\n",
              "    }\n",
              "\n",
              "    .dataframe thead th {\n",
              "        text-align: right;\n",
              "    }\n",
              "</style>\n",
              "<table border=\"1\" class=\"dataframe\">\n",
              "  <thead>\n",
              "    <tr style=\"text-align: right;\">\n",
              "      <th></th>\n",
              "      <th>user</th>\n",
              "      <th>dayofweek</th>\n",
              "      <th>age</th>\n",
              "      <th>numscreens</th>\n",
              "      <th>minigame</th>\n",
              "      <th>used_premium_feature</th>\n",
              "      <th>enrolled</th>\n",
              "      <th>liked</th>\n",
              "    </tr>\n",
              "  </thead>\n",
              "  <tbody>\n",
              "    <tr>\n",
              "      <th>count</th>\n",
              "      <td>50000.000000</td>\n",
              "      <td>50000.000000</td>\n",
              "      <td>50000.00000</td>\n",
              "      <td>50000.000000</td>\n",
              "      <td>50000.000000</td>\n",
              "      <td>50000.000000</td>\n",
              "      <td>50000.000000</td>\n",
              "      <td>50000.000000</td>\n",
              "    </tr>\n",
              "    <tr>\n",
              "      <th>mean</th>\n",
              "      <td>186889.729900</td>\n",
              "      <td>3.029860</td>\n",
              "      <td>31.72436</td>\n",
              "      <td>21.095900</td>\n",
              "      <td>0.107820</td>\n",
              "      <td>0.172020</td>\n",
              "      <td>0.621480</td>\n",
              "      <td>0.165000</td>\n",
              "    </tr>\n",
              "    <tr>\n",
              "      <th>std</th>\n",
              "      <td>107768.520361</td>\n",
              "      <td>2.031997</td>\n",
              "      <td>10.80331</td>\n",
              "      <td>15.728812</td>\n",
              "      <td>0.310156</td>\n",
              "      <td>0.377402</td>\n",
              "      <td>0.485023</td>\n",
              "      <td>0.371184</td>\n",
              "    </tr>\n",
              "    <tr>\n",
              "      <th>min</th>\n",
              "      <td>13.000000</td>\n",
              "      <td>0.000000</td>\n",
              "      <td>16.00000</td>\n",
              "      <td>1.000000</td>\n",
              "      <td>0.000000</td>\n",
              "      <td>0.000000</td>\n",
              "      <td>0.000000</td>\n",
              "      <td>0.000000</td>\n",
              "    </tr>\n",
              "    <tr>\n",
              "      <th>25%</th>\n",
              "      <td>93526.750000</td>\n",
              "      <td>1.000000</td>\n",
              "      <td>24.00000</td>\n",
              "      <td>10.000000</td>\n",
              "      <td>0.000000</td>\n",
              "      <td>0.000000</td>\n",
              "      <td>0.000000</td>\n",
              "      <td>0.000000</td>\n",
              "    </tr>\n",
              "    <tr>\n",
              "      <th>50%</th>\n",
              "      <td>187193.500000</td>\n",
              "      <td>3.000000</td>\n",
              "      <td>29.00000</td>\n",
              "      <td>18.000000</td>\n",
              "      <td>0.000000</td>\n",
              "      <td>0.000000</td>\n",
              "      <td>1.000000</td>\n",
              "      <td>0.000000</td>\n",
              "    </tr>\n",
              "    <tr>\n",
              "      <th>75%</th>\n",
              "      <td>279984.250000</td>\n",
              "      <td>5.000000</td>\n",
              "      <td>37.00000</td>\n",
              "      <td>28.000000</td>\n",
              "      <td>0.000000</td>\n",
              "      <td>0.000000</td>\n",
              "      <td>1.000000</td>\n",
              "      <td>0.000000</td>\n",
              "    </tr>\n",
              "    <tr>\n",
              "      <th>max</th>\n",
              "      <td>373662.000000</td>\n",
              "      <td>6.000000</td>\n",
              "      <td>101.00000</td>\n",
              "      <td>325.000000</td>\n",
              "      <td>1.000000</td>\n",
              "      <td>1.000000</td>\n",
              "      <td>1.000000</td>\n",
              "      <td>1.000000</td>\n",
              "    </tr>\n",
              "  </tbody>\n",
              "</table>\n",
              "</div>"
            ],
            "text/plain": [
              "                user     dayofweek  ...      enrolled         liked\n",
              "count   50000.000000  50000.000000  ...  50000.000000  50000.000000\n",
              "mean   186889.729900      3.029860  ...      0.621480      0.165000\n",
              "std    107768.520361      2.031997  ...      0.485023      0.371184\n",
              "min        13.000000      0.000000  ...      0.000000      0.000000\n",
              "25%     93526.750000      1.000000  ...      0.000000      0.000000\n",
              "50%    187193.500000      3.000000  ...      1.000000      0.000000\n",
              "75%    279984.250000      5.000000  ...      1.000000      0.000000\n",
              "max    373662.000000      6.000000  ...      1.000000      1.000000\n",
              "\n",
              "[8 rows x 8 columns]"
            ]
          },
          "metadata": {
            "tags": []
          },
          "execution_count": 4
        }
      ]
    },
    {
      "cell_type": "code",
      "metadata": {
        "ExecuteTime": {
          "end_time": "2021-02-10T08:33:05.788925Z",
          "start_time": "2021-02-10T08:33:05.744772Z"
        },
        "id": "zAFTS-VrKNgM"
      },
      "source": [
        "# First set of Feature cleaning\n",
        "dataset[\"hour\"] = dataset.hour.str.slice(1, 3).astype(int)"
      ],
      "execution_count": null,
      "outputs": []
    },
    {
      "cell_type": "code",
      "metadata": {
        "ExecuteTime": {
          "end_time": "2021-02-10T08:33:05.820545Z",
          "start_time": "2021-02-10T08:33:05.792588Z"
        },
        "id": "NPRSqC7PKNgM",
        "colab": {
          "base_uri": "https://localhost:8080/",
          "height": 195
        },
        "outputId": "b928b2e6-9392-47cf-d598-689450d1f66f"
      },
      "source": [
        "### Plotting\n",
        "dataset2 = dataset.copy().drop(columns = ['user', 'screen_list', 'enrolled_date',\n",
        "                                           'first_open', 'enrolled'])\n",
        "dataset2.head()"
      ],
      "execution_count": null,
      "outputs": [
        {
          "output_type": "execute_result",
          "data": {
            "text/html": [
              "<div>\n",
              "<style scoped>\n",
              "    .dataframe tbody tr th:only-of-type {\n",
              "        vertical-align: middle;\n",
              "    }\n",
              "\n",
              "    .dataframe tbody tr th {\n",
              "        vertical-align: top;\n",
              "    }\n",
              "\n",
              "    .dataframe thead th {\n",
              "        text-align: right;\n",
              "    }\n",
              "</style>\n",
              "<table border=\"1\" class=\"dataframe\">\n",
              "  <thead>\n",
              "    <tr style=\"text-align: right;\">\n",
              "      <th></th>\n",
              "      <th>dayofweek</th>\n",
              "      <th>hour</th>\n",
              "      <th>age</th>\n",
              "      <th>numscreens</th>\n",
              "      <th>minigame</th>\n",
              "      <th>used_premium_feature</th>\n",
              "      <th>liked</th>\n",
              "    </tr>\n",
              "  </thead>\n",
              "  <tbody>\n",
              "    <tr>\n",
              "      <th>0</th>\n",
              "      <td>3</td>\n",
              "      <td>2</td>\n",
              "      <td>23</td>\n",
              "      <td>15</td>\n",
              "      <td>0</td>\n",
              "      <td>0</td>\n",
              "      <td>0</td>\n",
              "    </tr>\n",
              "    <tr>\n",
              "      <th>1</th>\n",
              "      <td>6</td>\n",
              "      <td>1</td>\n",
              "      <td>24</td>\n",
              "      <td>13</td>\n",
              "      <td>0</td>\n",
              "      <td>0</td>\n",
              "      <td>0</td>\n",
              "    </tr>\n",
              "    <tr>\n",
              "      <th>2</th>\n",
              "      <td>1</td>\n",
              "      <td>19</td>\n",
              "      <td>23</td>\n",
              "      <td>3</td>\n",
              "      <td>0</td>\n",
              "      <td>1</td>\n",
              "      <td>1</td>\n",
              "    </tr>\n",
              "    <tr>\n",
              "      <th>3</th>\n",
              "      <td>4</td>\n",
              "      <td>16</td>\n",
              "      <td>28</td>\n",
              "      <td>40</td>\n",
              "      <td>0</td>\n",
              "      <td>0</td>\n",
              "      <td>0</td>\n",
              "    </tr>\n",
              "    <tr>\n",
              "      <th>4</th>\n",
              "      <td>1</td>\n",
              "      <td>18</td>\n",
              "      <td>31</td>\n",
              "      <td>32</td>\n",
              "      <td>0</td>\n",
              "      <td>0</td>\n",
              "      <td>1</td>\n",
              "    </tr>\n",
              "  </tbody>\n",
              "</table>\n",
              "</div>"
            ],
            "text/plain": [
              "   dayofweek  hour  age  numscreens  minigame  used_premium_feature  liked\n",
              "0          3     2   23          15         0                     0      0\n",
              "1          6     1   24          13         0                     0      0\n",
              "2          1    19   23           3         0                     1      1\n",
              "3          4    16   28          40         0                     0      0\n",
              "4          1    18   31          32         0                     0      1"
            ]
          },
          "metadata": {
            "tags": []
          },
          "execution_count": 6
        }
      ]
    },
    {
      "cell_type": "code",
      "metadata": {
        "ExecuteTime": {
          "end_time": "2021-02-10T08:33:07.369629Z",
          "start_time": "2021-02-10T08:33:05.823497Z"
        },
        "id": "_i_29l4UKNgN",
        "colab": {
          "base_uri": "https://localhost:8080/",
          "height": 294
        },
        "outputId": "0005f25f-4da6-4686-a08e-bfd15828cf40"
      },
      "source": [
        "## Histograms\n",
        "plt.suptitle('Histograms of Numerical Columns', fontsize=20)\n",
        "for i in range(1, dataset2.shape[1] + 1):\n",
        "    plt.subplot(3, 3, i)\n",
        "    f = plt.gca()\n",
        "#    f.axes.get_yaxis().set_visible(False)\n",
        "    f.set_title(dataset2.columns.values[i - 1])\n",
        "\n",
        "    vals = np.size(dataset2.iloc[:, i - 1].unique())\n",
        "    \n",
        "    plt.hist(dataset2.iloc[:, i - 1], bins=vals, color='#3F5D7D')\n",
        "plt.tight_layout(rect=[0, 0.03, 1, 0.95])\n",
        "plt.savefig('app_data_hist.jpg')"
      ],
      "execution_count": null,
      "outputs": [
        {
          "output_type": "display_data",
          "data": {
            "image/png": "[encoded data removed]",
            "text/plain": [
              "<Figure size 432x288 with 7 Axes>"
            ]
          },
          "metadata": {
            "tags": [],
            "needs_background": "light"
          }
        }
      ]
    },
    {
      "cell_type": "code",
      "metadata": {
        "ExecuteTime": {
          "end_time": "2021-02-10T08:33:07.666085Z",
          "start_time": "2021-02-10T08:33:07.372621Z"
        },
        "id": "mShMZTFtKNgN",
        "colab": {
          "base_uri": "https://localhost:8080/",
          "height": 749
        },
        "outputId": "2ae41330-62cc-41fd-c00f-9045c3d381fc"
      },
      "source": [
        "## Correlation with Response Variable\n",
        "dataset2.corrwith(dataset.enrolled).plot.bar(figsize=(20,10),\n",
        "                  title = 'Correlation with Response variable',\n",
        "                  fontsize = 15, rot = 45,\n",
        "                  grid = True)"
      ],
      "execution_count": null,
      "outputs": [
        {
          "output_type": "execute_result",
          "data": {
            "text/plain": [
              "<matplotlib.axes._subplots.AxesSubplot at 0x7fcf21556940>"
            ]
          },
          "metadata": {
            "tags": []
          },
          "execution_count": 8
        },
        {
          "output_type": "display_data",
          "data": {
            "image/png": "[encoded data removed]",
            "text/plain": [
              "<Figure size 1440x720 with 1 Axes>"
            ]
          },
          "metadata": {
            "tags": [],
            "needs_background": "light"
          }
        }
      ]
    },
    {
      "cell_type": "code",
      "metadata": {
        "ExecuteTime": {
          "end_time": "2021-02-10T08:33:08.122668Z",
          "start_time": "2021-02-10T08:33:07.668830Z"
        },
        "id": "AV9Ag5KSKNgO",
        "colab": {
          "base_uri": "https://localhost:8080/",
          "height": 1000
        },
        "outputId": "170f85a7-241f-4c7d-cfe6-c4bb7adfb75b"
      },
      "source": [
        "## Correlation Matrix\n",
        "sn.set(style=\"white\", font_scale=2)\n",
        "\n",
        "# Compute the correlation matrix\n",
        "corr = dataset2.corr()\n",
        "\n",
        "# Generate a mask for the upper triangle\n",
        "mask = np.zeros_like(corr, dtype=np.bool)\n",
        "mask[np.triu_indices_from(mask)] = True\n",
        "\n",
        "# Set up the matplotlib figure\n",
        "f, ax = plt.subplots(figsize=(18, 15))\n",
        "f.suptitle(\"Correlation Matrix\", fontsize = 40)\n",
        "\n",
        "# Generate a custom diverging colormap\n",
        "cmap = sn.diverging_palette(220, 10, as_cmap=True)\n",
        "\n",
        "# Draw the heatmap with the mask and correct aspect ratio\n",
        "sn.heatmap(corr, mask=mask, cmap=cmap, vmax=.3, center=0,\n",
        "            square=True, linewidths=.5, cbar_kws={\"shrink\": .5})"
      ],
      "execution_count": null,
      "outputs": [
        {
          "output_type": "execute_result",
          "data": {
            "text/plain": [
              "<matplotlib.axes._subplots.AxesSubplot at 0x7fcf21051ef0>"
            ]
          },
          "metadata": {
            "tags": []
          },
          "execution_count": 9
        },
        {
          "output_type": "display_data",
          "data": {
            "image/png": "[encoded data removed]",
            "text/plain": [
              "<Figure size 1296x1080 with 2 Axes>"
            ]
          },
          "metadata": {
            "tags": []
          }
        }
      ]
    },
    {
      "cell_type": "code",
      "metadata": {
        "ExecuteTime": {
          "end_time": "2021-02-10T08:33:14.422404Z",
          "start_time": "2021-02-10T08:33:08.125650Z"
        },
        "id": "dpLy-sNGKNgO",
        "colab": {
          "base_uri": "https://localhost:8080/"
        },
        "outputId": "ec50060a-ad09-4e36-bec2-782b8c033c50"
      },
      "source": [
        "#### Feature Engineering ####\n",
        "\n",
        "\n",
        "# Formatting Date Columns\n",
        "dataset.dtypes\n",
        "dataset[\"first_open\"] = [parser.parse(row_date) for row_date in dataset[\"first_open\"]]\n",
        "dataset[\"enrolled_date\"] = [parser.parse(row_date) if isinstance(row_date, str) else row_date for row_date in dataset[\"enrolled_date\"]]\n",
        "dataset.dtypes"
      ],
      "execution_count": null,
      "outputs": [
        {
          "output_type": "execute_result",
          "data": {
            "text/plain": [
              "user                             int64\n",
              "first_open              datetime64[ns]\n",
              "dayofweek                        int64\n",
              "hour                             int64\n",
              "age                              int64\n",
              "screen_list                     object\n",
              "numscreens                       int64\n",
              "minigame                         int64\n",
              "used_premium_feature             int64\n",
              "enrolled                         int64\n",
              "enrolled_date           datetime64[ns]\n",
              "liked                            int64\n",
              "dtype: object"
            ]
          },
          "metadata": {
            "tags": []
          },
          "execution_count": 10
        }
      ]
    },
    {
      "cell_type": "code",
      "metadata": {
        "ExecuteTime": {
          "end_time": "2021-02-10T08:33:14.660526Z",
          "start_time": "2021-02-10T08:33:14.425356Z"
        },
        "id": "R7ddc0xZKNgO",
        "colab": {
          "base_uri": "https://localhost:8080/",
          "height": 303
        },
        "outputId": "37709c70-3b87-4390-a2fb-8bf63b102158"
      },
      "source": [
        "# Selecting Time For Response\n",
        "dataset[\"difference\"] = (dataset.enrolled_date-dataset.first_open).astype('timedelta64[h]')\n",
        "response_hist = plt.hist(dataset[\"difference\"].dropna(), color='#3F5D7D')\n",
        "plt.title('Distribution of Time-Since-Screen-Reached')\n",
        "plt.show()"
      ],
      "execution_count": null,
      "outputs": [
        {
          "output_type": "display_data",
          "data": {
            "image/png": "[encoded data removed]",
            "text/plain": [
              "<Figure size 432x288 with 1 Axes>"
            ]
          },
          "metadata": {
            "tags": []
          }
        }
      ]
    },
    {
      "cell_type": "code",
      "metadata": {
        "ExecuteTime": {
          "end_time": "2021-02-10T08:33:14.882430Z",
          "start_time": "2021-02-10T08:33:14.662524Z"
        },
        "id": "--dInIDKKNgP",
        "colab": {
          "base_uri": "https://localhost:8080/",
          "height": 303
        },
        "outputId": "f75a8a98-cccc-4e98-ead0-60d0b36f28d8"
      },
      "source": [
        "plt.hist(dataset[\"difference\"].dropna(), color='#3F5D7D', range = [0, 100])\n",
        "plt.title('Distribution of Time-Since-Screen-Reached')\n",
        "plt.show()"
      ],
      "execution_count": null,
      "outputs": [
        {
          "output_type": "display_data",
          "data": {
            "image/png": "[encoded data removed]",
            "text/plain": [
              "<Figure size 432x288 with 1 Axes>"
            ]
          },
          "metadata": {
            "tags": []
          }
        }
      ]
    },
    {
      "cell_type": "code",
      "metadata": {
        "ExecuteTime": {
          "end_time": "2021-02-10T08:33:14.898584Z",
          "start_time": "2021-02-10T08:33:14.884395Z"
        },
        "id": "1guG6HkNKNgP"
      },
      "source": [
        "dataset.loc[dataset.difference > 48, 'enrolled'] = 0\n",
        "dataset = dataset.drop(columns=['enrolled_date', 'difference', 'first_open'])"
      ],
      "execution_count": null,
      "outputs": []
    },
    {
      "cell_type": "code",
      "metadata": {
        "ExecuteTime": {
          "end_time": "2021-02-10T08:33:14.914304Z",
          "start_time": "2021-02-10T08:33:14.901339Z"
        },
        "id": "xUbqTgt9KNgP",
        "colab": {
          "base_uri": "https://localhost:8080/"
        },
        "outputId": "78008912-8862-4051-9568-52f5b954c867"
      },
      "source": [
        "\n",
        "## Formatting the screen_list Field\n",
        "\n",
        "# Load Top Screens\n",
        "top_screens = pd.read_csv('https://raw.githubusercontent.com/jha-vineet69/Customer-Subscription-Conversion/main/top_screens.csv').top_screens.values\n",
        "top_screens"
      ],
      "execution_count": null,
      "outputs": [
        {
          "output_type": "execute_result",
          "data": {
            "text/plain": [
              "array(['Loan2', 'location', 'Institutions', 'Credit3Container',\n",
              "       'VerifyPhone', 'BankVerification', 'VerifyDateOfBirth',\n",
              "       'ProfilePage', 'VerifyCountry', 'Cycle', 'idscreen',\n",
              "       'Credit3Dashboard', 'Loan3', 'CC1Category', 'Splash', 'Loan',\n",
              "       'CC1', 'RewardsContainer', 'Credit3', 'Credit1', 'EditProfile',\n",
              "       'Credit2', 'Finances', 'CC3', 'Saving9', 'Saving1', 'Alerts',\n",
              "       'Saving8', 'Saving10', 'Leaderboard', 'Saving4', 'VerifyMobile',\n",
              "       'VerifyHousing', 'RewardDetail', 'VerifyHousingAmount',\n",
              "       'ProfileMaritalStatus', 'ProfileChildren ', 'ProfileEducation',\n",
              "       'Saving7', 'ProfileEducationMajor', 'Rewards', 'AccountView',\n",
              "       'VerifyAnnualIncome', 'VerifyIncomeType', 'Saving2', 'Saving6',\n",
              "       'Saving2Amount', 'Saving5', 'ProfileJobTitle', 'Login',\n",
              "       'ProfileEmploymentLength', 'WebView', 'SecurityModal', 'Loan4',\n",
              "       'ResendToken', 'TransactionList', 'NetworkFailure', 'ListPicker'],\n",
              "      dtype=object)"
            ]
          },
          "metadata": {
            "tags": []
          },
          "execution_count": 14
        }
      ]
    },
    {
      "cell_type": "code",
      "metadata": {
        "ExecuteTime": {
          "end_time": "2021-02-10T08:33:20.775493Z",
          "start_time": "2021-02-10T08:33:14.916298Z"
        },
        "id": "9YRlSQaUKNgQ"
      },
      "source": [
        "# Mapping Screens to Fields\n",
        "dataset[\"screen_list\"] = dataset.screen_list.astype(str) + ','\n",
        "\n",
        "for sc in top_screens:\n",
        "    dataset[sc] = dataset.screen_list.str.contains(sc).astype(int)\n",
        "    dataset['screen_list'] = dataset.screen_list.str.replace(sc+\",\", \"\")\n",
        "\n",
        "dataset['Other'] = dataset.screen_list.str.count(\",\")\n",
        "dataset = dataset.drop(columns=['screen_list'])"
      ],
      "execution_count": null,
      "outputs": []
    },
    {
      "cell_type": "code",
      "metadata": {
        "ExecuteTime": {
          "end_time": "2021-02-10T08:33:20.806778Z",
          "start_time": "2021-02-10T08:33:20.777816Z"
        },
        "id": "dSEUJDo8KNgQ"
      },
      "source": [
        "# Funnels\n",
        "savings_screens = [\"Saving1\",\n",
        "                    \"Saving2\",\n",
        "                    \"Saving2Amount\",\n",
        "                    \"Saving4\",\n",
        "                    \"Saving5\",\n",
        "                    \"Saving6\",\n",
        "                    \"Saving7\",\n",
        "                    \"Saving8\",\n",
        "                    \"Saving9\",\n",
        "                    \"Saving10\"]\n",
        "dataset[\"SavingCount\"] = dataset[savings_screens].sum(axis=1)\n",
        "dataset = dataset.drop(columns=savings_screens)"
      ],
      "execution_count": null,
      "outputs": []
    },
    {
      "cell_type": "code",
      "metadata": {
        "ExecuteTime": {
          "end_time": "2021-02-10T08:33:20.838007Z",
          "start_time": "2021-02-10T08:33:20.808746Z"
        },
        "id": "J6sRub3zKNgQ"
      },
      "source": [
        "cm_screens = [\"Credit1\",\n",
        "               \"Credit2\",\n",
        "               \"Credit3\",\n",
        "               \"Credit3Container\",\n",
        "               \"Credit3Dashboard\"]\n",
        "dataset[\"CMCount\"] = dataset[cm_screens].sum(axis=1)\n",
        "dataset = dataset.drop(columns=cm_screens)"
      ],
      "execution_count": null,
      "outputs": []
    },
    {
      "cell_type": "code",
      "metadata": {
        "ExecuteTime": {
          "end_time": "2021-02-10T08:33:20.868645Z",
          "start_time": "2021-02-10T08:33:20.839430Z"
        },
        "id": "9zLRQeg-KNgQ"
      },
      "source": [
        "cc_screens = [\"CC1\",\n",
        "                \"CC1Category\",\n",
        "                \"CC3\"]\n",
        "dataset[\"CCCount\"] = dataset[cc_screens].sum(axis=1)\n",
        "dataset = dataset.drop(columns=cc_screens)"
      ],
      "execution_count": null,
      "outputs": []
    },
    {
      "cell_type": "code",
      "metadata": {
        "ExecuteTime": {
          "end_time": "2021-02-10T08:33:20.899573Z",
          "start_time": "2021-02-10T08:33:20.870646Z"
        },
        "id": "weOfifrzKNgQ"
      },
      "source": [
        "loan_screens = [\"Loan\",\n",
        "               \"Loan2\",\n",
        "               \"Loan3\",\n",
        "               \"Loan4\"]\n",
        "dataset[\"LoansCount\"] = dataset[loan_screens].sum(axis=1)\n",
        "dataset = dataset.drop(columns=loan_screens)"
      ],
      "execution_count": null,
      "outputs": []
    },
    {
      "cell_type": "code",
      "metadata": {
        "ExecuteTime": {
          "end_time": "2021-02-10T08:33:20.931475Z",
          "start_time": "2021-02-10T08:33:20.901567Z"
        },
        "id": "GjXcnl5jKNgR",
        "colab": {
          "base_uri": "https://localhost:8080/",
          "height": 215
        },
        "outputId": "110ddf1b-7728-412b-c20c-878d4bc9cc55"
      },
      "source": [
        "dataset.head()"
      ],
      "execution_count": null,
      "outputs": [
        {
          "output_type": "execute_result",
          "data": {
            "text/html": [
              "<div>\n",
              "<style scoped>\n",
              "    .dataframe tbody tr th:only-of-type {\n",
              "        vertical-align: middle;\n",
              "    }\n",
              "\n",
              "    .dataframe tbody tr th {\n",
              "        vertical-align: top;\n",
              "    }\n",
              "\n",
              "    .dataframe thead th {\n",
              "        text-align: right;\n",
              "    }\n",
              "</style>\n",
              "<table border=\"1\" class=\"dataframe\">\n",
              "  <thead>\n",
              "    <tr style=\"text-align: right;\">\n",
              "      <th></th>\n",
              "      <th>user</th>\n",
              "      <th>dayofweek</th>\n",
              "      <th>hour</th>\n",
              "      <th>age</th>\n",
              "      <th>numscreens</th>\n",
              "      <th>minigame</th>\n",
              "      <th>used_premium_feature</th>\n",
              "      <th>enrolled</th>\n",
              "      <th>liked</th>\n",
              "      <th>location</th>\n",
              "      <th>Institutions</th>\n",
              "      <th>VerifyPhone</th>\n",
              "      <th>BankVerification</th>\n",
              "      <th>VerifyDateOfBirth</th>\n",
              "      <th>ProfilePage</th>\n",
              "      <th>VerifyCountry</th>\n",
              "      <th>Cycle</th>\n",
              "      <th>idscreen</th>\n",
              "      <th>Splash</th>\n",
              "      <th>RewardsContainer</th>\n",
              "      <th>EditProfile</th>\n",
              "      <th>Finances</th>\n",
              "      <th>Alerts</th>\n",
              "      <th>Leaderboard</th>\n",
              "      <th>VerifyMobile</th>\n",
              "      <th>VerifyHousing</th>\n",
              "      <th>RewardDetail</th>\n",
              "      <th>VerifyHousingAmount</th>\n",
              "      <th>ProfileMaritalStatus</th>\n",
              "      <th>ProfileChildren</th>\n",
              "      <th>ProfileEducation</th>\n",
              "      <th>ProfileEducationMajor</th>\n",
              "      <th>Rewards</th>\n",
              "      <th>AccountView</th>\n",
              "      <th>VerifyAnnualIncome</th>\n",
              "      <th>VerifyIncomeType</th>\n",
              "      <th>ProfileJobTitle</th>\n",
              "      <th>Login</th>\n",
              "      <th>ProfileEmploymentLength</th>\n",
              "      <th>WebView</th>\n",
              "      <th>SecurityModal</th>\n",
              "      <th>ResendToken</th>\n",
              "      <th>TransactionList</th>\n",
              "      <th>NetworkFailure</th>\n",
              "      <th>ListPicker</th>\n",
              "      <th>Other</th>\n",
              "      <th>SavingCount</th>\n",
              "      <th>CMCount</th>\n",
              "      <th>CCCount</th>\n",
              "      <th>LoansCount</th>\n",
              "    </tr>\n",
              "  </thead>\n",
              "  <tbody>\n",
              "    <tr>\n",
              "      <th>0</th>\n",
              "      <td>235136</td>\n",
              "      <td>3</td>\n",
              "      <td>2</td>\n",
              "      <td>23</td>\n",
              "      <td>15</td>\n",
              "      <td>0</td>\n",
              "      <td>0</td>\n",
              "      <td>0</td>\n",
              "      <td>0</td>\n",
              "      <td>0</td>\n",
              "      <td>0</td>\n",
              "      <td>1</td>\n",
              "      <td>0</td>\n",
              "      <td>1</td>\n",
              "      <td>0</td>\n",
              "      <td>0</td>\n",
              "      <td>1</td>\n",
              "      <td>1</td>\n",
              "      <td>0</td>\n",
              "      <td>0</td>\n",
              "      <td>0</td>\n",
              "      <td>0</td>\n",
              "      <td>0</td>\n",
              "      <td>0</td>\n",
              "      <td>0</td>\n",
              "      <td>0</td>\n",
              "      <td>0</td>\n",
              "      <td>0</td>\n",
              "      <td>0</td>\n",
              "      <td>0</td>\n",
              "      <td>0</td>\n",
              "      <td>0</td>\n",
              "      <td>0</td>\n",
              "      <td>0</td>\n",
              "      <td>0</td>\n",
              "      <td>0</td>\n",
              "      <td>0</td>\n",
              "      <td>1</td>\n",
              "      <td>0</td>\n",
              "      <td>0</td>\n",
              "      <td>0</td>\n",
              "      <td>0</td>\n",
              "      <td>0</td>\n",
              "      <td>0</td>\n",
              "      <td>0</td>\n",
              "      <td>7</td>\n",
              "      <td>0</td>\n",
              "      <td>0</td>\n",
              "      <td>0</td>\n",
              "      <td>1</td>\n",
              "    </tr>\n",
              "    <tr>\n",
              "      <th>1</th>\n",
              "      <td>333588</td>\n",
              "      <td>6</td>\n",
              "      <td>1</td>\n",
              "      <td>24</td>\n",
              "      <td>13</td>\n",
              "      <td>0</td>\n",
              "      <td>0</td>\n",
              "      <td>0</td>\n",
              "      <td>0</td>\n",
              "      <td>1</td>\n",
              "      <td>1</td>\n",
              "      <td>1</td>\n",
              "      <td>0</td>\n",
              "      <td>1</td>\n",
              "      <td>0</td>\n",
              "      <td>1</td>\n",
              "      <td>0</td>\n",
              "      <td>0</td>\n",
              "      <td>0</td>\n",
              "      <td>0</td>\n",
              "      <td>0</td>\n",
              "      <td>0</td>\n",
              "      <td>0</td>\n",
              "      <td>0</td>\n",
              "      <td>0</td>\n",
              "      <td>0</td>\n",
              "      <td>0</td>\n",
              "      <td>0</td>\n",
              "      <td>0</td>\n",
              "      <td>0</td>\n",
              "      <td>0</td>\n",
              "      <td>0</td>\n",
              "      <td>0</td>\n",
              "      <td>0</td>\n",
              "      <td>0</td>\n",
              "      <td>0</td>\n",
              "      <td>0</td>\n",
              "      <td>0</td>\n",
              "      <td>0</td>\n",
              "      <td>0</td>\n",
              "      <td>0</td>\n",
              "      <td>0</td>\n",
              "      <td>0</td>\n",
              "      <td>0</td>\n",
              "      <td>0</td>\n",
              "      <td>5</td>\n",
              "      <td>0</td>\n",
              "      <td>0</td>\n",
              "      <td>0</td>\n",
              "      <td>1</td>\n",
              "    </tr>\n",
              "    <tr>\n",
              "      <th>2</th>\n",
              "      <td>254414</td>\n",
              "      <td>1</td>\n",
              "      <td>19</td>\n",
              "      <td>23</td>\n",
              "      <td>3</td>\n",
              "      <td>0</td>\n",
              "      <td>1</td>\n",
              "      <td>0</td>\n",
              "      <td>1</td>\n",
              "      <td>0</td>\n",
              "      <td>0</td>\n",
              "      <td>0</td>\n",
              "      <td>0</td>\n",
              "      <td>0</td>\n",
              "      <td>0</td>\n",
              "      <td>0</td>\n",
              "      <td>1</td>\n",
              "      <td>0</td>\n",
              "      <td>1</td>\n",
              "      <td>0</td>\n",
              "      <td>0</td>\n",
              "      <td>0</td>\n",
              "      <td>0</td>\n",
              "      <td>0</td>\n",
              "      <td>0</td>\n",
              "      <td>0</td>\n",
              "      <td>0</td>\n",
              "      <td>0</td>\n",
              "      <td>0</td>\n",
              "      <td>0</td>\n",
              "      <td>0</td>\n",
              "      <td>0</td>\n",
              "      <td>0</td>\n",
              "      <td>0</td>\n",
              "      <td>0</td>\n",
              "      <td>0</td>\n",
              "      <td>0</td>\n",
              "      <td>0</td>\n",
              "      <td>0</td>\n",
              "      <td>0</td>\n",
              "      <td>0</td>\n",
              "      <td>0</td>\n",
              "      <td>0</td>\n",
              "      <td>0</td>\n",
              "      <td>0</td>\n",
              "      <td>0</td>\n",
              "      <td>0</td>\n",
              "      <td>0</td>\n",
              "      <td>0</td>\n",
              "      <td>1</td>\n",
              "    </tr>\n",
              "    <tr>\n",
              "      <th>3</th>\n",
              "      <td>234192</td>\n",
              "      <td>4</td>\n",
              "      <td>16</td>\n",
              "      <td>28</td>\n",
              "      <td>40</td>\n",
              "      <td>0</td>\n",
              "      <td>0</td>\n",
              "      <td>1</td>\n",
              "      <td>0</td>\n",
              "      <td>1</td>\n",
              "      <td>0</td>\n",
              "      <td>1</td>\n",
              "      <td>0</td>\n",
              "      <td>1</td>\n",
              "      <td>0</td>\n",
              "      <td>0</td>\n",
              "      <td>0</td>\n",
              "      <td>0</td>\n",
              "      <td>0</td>\n",
              "      <td>0</td>\n",
              "      <td>0</td>\n",
              "      <td>1</td>\n",
              "      <td>0</td>\n",
              "      <td>1</td>\n",
              "      <td>0</td>\n",
              "      <td>0</td>\n",
              "      <td>1</td>\n",
              "      <td>0</td>\n",
              "      <td>0</td>\n",
              "      <td>0</td>\n",
              "      <td>0</td>\n",
              "      <td>0</td>\n",
              "      <td>1</td>\n",
              "      <td>0</td>\n",
              "      <td>0</td>\n",
              "      <td>0</td>\n",
              "      <td>0</td>\n",
              "      <td>0</td>\n",
              "      <td>0</td>\n",
              "      <td>0</td>\n",
              "      <td>0</td>\n",
              "      <td>0</td>\n",
              "      <td>0</td>\n",
              "      <td>0</td>\n",
              "      <td>0</td>\n",
              "      <td>6</td>\n",
              "      <td>0</td>\n",
              "      <td>3</td>\n",
              "      <td>0</td>\n",
              "      <td>1</td>\n",
              "    </tr>\n",
              "    <tr>\n",
              "      <th>4</th>\n",
              "      <td>51549</td>\n",
              "      <td>1</td>\n",
              "      <td>18</td>\n",
              "      <td>31</td>\n",
              "      <td>32</td>\n",
              "      <td>0</td>\n",
              "      <td>0</td>\n",
              "      <td>1</td>\n",
              "      <td>1</td>\n",
              "      <td>0</td>\n",
              "      <td>1</td>\n",
              "      <td>1</td>\n",
              "      <td>1</td>\n",
              "      <td>0</td>\n",
              "      <td>0</td>\n",
              "      <td>1</td>\n",
              "      <td>1</td>\n",
              "      <td>1</td>\n",
              "      <td>0</td>\n",
              "      <td>0</td>\n",
              "      <td>0</td>\n",
              "      <td>0</td>\n",
              "      <td>0</td>\n",
              "      <td>0</td>\n",
              "      <td>0</td>\n",
              "      <td>0</td>\n",
              "      <td>0</td>\n",
              "      <td>0</td>\n",
              "      <td>0</td>\n",
              "      <td>0</td>\n",
              "      <td>0</td>\n",
              "      <td>0</td>\n",
              "      <td>0</td>\n",
              "      <td>0</td>\n",
              "      <td>0</td>\n",
              "      <td>0</td>\n",
              "      <td>0</td>\n",
              "      <td>0</td>\n",
              "      <td>0</td>\n",
              "      <td>0</td>\n",
              "      <td>0</td>\n",
              "      <td>0</td>\n",
              "      <td>0</td>\n",
              "      <td>0</td>\n",
              "      <td>0</td>\n",
              "      <td>10</td>\n",
              "      <td>0</td>\n",
              "      <td>2</td>\n",
              "      <td>0</td>\n",
              "      <td>1</td>\n",
              "    </tr>\n",
              "  </tbody>\n",
              "</table>\n",
              "</div>"
            ],
            "text/plain": [
              "     user  dayofweek  hour  age  ...  SavingCount  CMCount  CCCount  LoansCount\n",
              "0  235136          3     2   23  ...            0        0        0           1\n",
              "1  333588          6     1   24  ...            0        0        0           1\n",
              "2  254414          1    19   23  ...            0        0        0           1\n",
              "3  234192          4    16   28  ...            0        3        0           1\n",
              "4   51549          1    18   31  ...            0        2        0           1\n",
              "\n",
              "[5 rows x 50 columns]"
            ]
          },
          "metadata": {
            "tags": []
          },
          "execution_count": 20
        }
      ]
    },
    {
      "cell_type": "code",
      "metadata": {
        "ExecuteTime": {
          "end_time": "2021-02-10T08:33:21.119972Z",
          "start_time": "2021-02-10T08:33:20.933471Z"
        },
        "id": "saHjuYJvKNgR",
        "colab": {
          "base_uri": "https://localhost:8080/",
          "height": 304
        },
        "outputId": "7b87d12d-c9b6-4c7f-c91e-ce5be40ca783"
      },
      "source": [
        "dataset.describe()"
      ],
      "execution_count": null,
      "outputs": [
        {
          "output_type": "execute_result",
          "data": {
            "text/html": [
              "<div>\n",
              "<style scoped>\n",
              "    .dataframe tbody tr th:only-of-type {\n",
              "        vertical-align: middle;\n",
              "    }\n",
              "\n",
              "    .dataframe tbody tr th {\n",
              "        vertical-align: top;\n",
              "    }\n",
              "\n",
              "    .dataframe thead th {\n",
              "        text-align: right;\n",
              "    }\n",
              "</style>\n",
              "<table border=\"1\" class=\"dataframe\">\n",
              "  <thead>\n",
              "    <tr style=\"text-align: right;\">\n",
              "      <th></th>\n",
              "      <th>user</th>\n",
              "      <th>dayofweek</th>\n",
              "      <th>hour</th>\n",
              "      <th>age</th>\n",
              "      <th>numscreens</th>\n",
              "      <th>minigame</th>\n",
              "      <th>used_premium_feature</th>\n",
              "      <th>enrolled</th>\n",
              "      <th>liked</th>\n",
              "      <th>location</th>\n",
              "      <th>Institutions</th>\n",
              "      <th>VerifyPhone</th>\n",
              "      <th>BankVerification</th>\n",
              "      <th>VerifyDateOfBirth</th>\n",
              "      <th>ProfilePage</th>\n",
              "      <th>VerifyCountry</th>\n",
              "      <th>Cycle</th>\n",
              "      <th>idscreen</th>\n",
              "      <th>Splash</th>\n",
              "      <th>RewardsContainer</th>\n",
              "      <th>EditProfile</th>\n",
              "      <th>Finances</th>\n",
              "      <th>Alerts</th>\n",
              "      <th>Leaderboard</th>\n",
              "      <th>VerifyMobile</th>\n",
              "      <th>VerifyHousing</th>\n",
              "      <th>RewardDetail</th>\n",
              "      <th>VerifyHousingAmount</th>\n",
              "      <th>ProfileMaritalStatus</th>\n",
              "      <th>ProfileChildren</th>\n",
              "      <th>ProfileEducation</th>\n",
              "      <th>ProfileEducationMajor</th>\n",
              "      <th>Rewards</th>\n",
              "      <th>AccountView</th>\n",
              "      <th>VerifyAnnualIncome</th>\n",
              "      <th>VerifyIncomeType</th>\n",
              "      <th>ProfileJobTitle</th>\n",
              "      <th>Login</th>\n",
              "      <th>ProfileEmploymentLength</th>\n",
              "      <th>WebView</th>\n",
              "      <th>SecurityModal</th>\n",
              "      <th>ResendToken</th>\n",
              "      <th>TransactionList</th>\n",
              "      <th>NetworkFailure</th>\n",
              "      <th>ListPicker</th>\n",
              "      <th>Other</th>\n",
              "      <th>SavingCount</th>\n",
              "      <th>CMCount</th>\n",
              "      <th>CCCount</th>\n",
              "      <th>LoansCount</th>\n",
              "    </tr>\n",
              "  </thead>\n",
              "  <tbody>\n",
              "    <tr>\n",
              "      <th>count</th>\n",
              "      <td>50000.000000</td>\n",
              "      <td>50000.000000</td>\n",
              "      <td>50000.000000</td>\n",
              "      <td>50000.00000</td>\n",
              "      <td>50000.000000</td>\n",
              "      <td>50000.000000</td>\n",
              "      <td>50000.000000</td>\n",
              "      <td>50000.000000</td>\n",
              "      <td>50000.000000</td>\n",
              "      <td>50000.000000</td>\n",
              "      <td>50000.000000</td>\n",
              "      <td>50000.000000</td>\n",
              "      <td>50000.000000</td>\n",
              "      <td>50000.000000</td>\n",
              "      <td>50000.000000</td>\n",
              "      <td>50000.000000</td>\n",
              "      <td>50000.000000</td>\n",
              "      <td>50000.000000</td>\n",
              "      <td>50000.000000</td>\n",
              "      <td>50000.000000</td>\n",
              "      <td>50000.000000</td>\n",
              "      <td>50000.000000</td>\n",
              "      <td>50000.000000</td>\n",
              "      <td>50000.000000</td>\n",
              "      <td>50000.000000</td>\n",
              "      <td>50000.000000</td>\n",
              "      <td>50000.000000</td>\n",
              "      <td>50000.000000</td>\n",
              "      <td>50000.000000</td>\n",
              "      <td>50000.0</td>\n",
              "      <td>50000.0000</td>\n",
              "      <td>50000.000000</td>\n",
              "      <td>50000.000000</td>\n",
              "      <td>50000.000000</td>\n",
              "      <td>50000.000000</td>\n",
              "      <td>50000.000000</td>\n",
              "      <td>50000.000000</td>\n",
              "      <td>50000.000000</td>\n",
              "      <td>50000.000000</td>\n",
              "      <td>50000.000000</td>\n",
              "      <td>50000.000000</td>\n",
              "      <td>50000.000000</td>\n",
              "      <td>50000.000000</td>\n",
              "      <td>50000.000000</td>\n",
              "      <td>50000.000000</td>\n",
              "      <td>50000.000000</td>\n",
              "      <td>50000.000000</td>\n",
              "      <td>50000.00000</td>\n",
              "      <td>50000.000000</td>\n",
              "      <td>50000.000000</td>\n",
              "    </tr>\n",
              "    <tr>\n",
              "      <th>mean</th>\n",
              "      <td>186889.729900</td>\n",
              "      <td>3.029860</td>\n",
              "      <td>12.557220</td>\n",
              "      <td>31.72436</td>\n",
              "      <td>21.095900</td>\n",
              "      <td>0.107820</td>\n",
              "      <td>0.172020</td>\n",
              "      <td>0.496980</td>\n",
              "      <td>0.165000</td>\n",
              "      <td>0.517760</td>\n",
              "      <td>0.293660</td>\n",
              "      <td>0.524600</td>\n",
              "      <td>0.319540</td>\n",
              "      <td>0.473480</td>\n",
              "      <td>0.158040</td>\n",
              "      <td>0.423160</td>\n",
              "      <td>0.364860</td>\n",
              "      <td>0.340700</td>\n",
              "      <td>0.200760</td>\n",
              "      <td>0.084000</td>\n",
              "      <td>0.048980</td>\n",
              "      <td>0.076540</td>\n",
              "      <td>0.073720</td>\n",
              "      <td>0.051520</td>\n",
              "      <td>0.053860</td>\n",
              "      <td>0.045080</td>\n",
              "      <td>0.030920</td>\n",
              "      <td>0.041420</td>\n",
              "      <td>0.047560</td>\n",
              "      <td>0.0</td>\n",
              "      <td>0.0455</td>\n",
              "      <td>0.041060</td>\n",
              "      <td>0.024420</td>\n",
              "      <td>0.026220</td>\n",
              "      <td>0.023580</td>\n",
              "      <td>0.031760</td>\n",
              "      <td>0.022460</td>\n",
              "      <td>0.029800</td>\n",
              "      <td>0.021160</td>\n",
              "      <td>0.096560</td>\n",
              "      <td>0.014220</td>\n",
              "      <td>0.013340</td>\n",
              "      <td>0.013400</td>\n",
              "      <td>0.008200</td>\n",
              "      <td>0.007580</td>\n",
              "      <td>6.214260</td>\n",
              "      <td>0.365020</td>\n",
              "      <td>0.92776</td>\n",
              "      <td>0.176860</td>\n",
              "      <td>0.788400</td>\n",
              "    </tr>\n",
              "    <tr>\n",
              "      <th>std</th>\n",
              "      <td>107768.520361</td>\n",
              "      <td>2.031997</td>\n",
              "      <td>7.438072</td>\n",
              "      <td>10.80331</td>\n",
              "      <td>15.728812</td>\n",
              "      <td>0.310156</td>\n",
              "      <td>0.377402</td>\n",
              "      <td>0.499996</td>\n",
              "      <td>0.371184</td>\n",
              "      <td>0.499689</td>\n",
              "      <td>0.455443</td>\n",
              "      <td>0.499399</td>\n",
              "      <td>0.466303</td>\n",
              "      <td>0.499301</td>\n",
              "      <td>0.364782</td>\n",
              "      <td>0.494065</td>\n",
              "      <td>0.481396</td>\n",
              "      <td>0.473949</td>\n",
              "      <td>0.400573</td>\n",
              "      <td>0.277391</td>\n",
              "      <td>0.215828</td>\n",
              "      <td>0.265863</td>\n",
              "      <td>0.261317</td>\n",
              "      <td>0.221058</td>\n",
              "      <td>0.225743</td>\n",
              "      <td>0.207482</td>\n",
              "      <td>0.173103</td>\n",
              "      <td>0.199262</td>\n",
              "      <td>0.212836</td>\n",
              "      <td>0.0</td>\n",
              "      <td>0.2084</td>\n",
              "      <td>0.198431</td>\n",
              "      <td>0.154351</td>\n",
              "      <td>0.159791</td>\n",
              "      <td>0.151738</td>\n",
              "      <td>0.175362</td>\n",
              "      <td>0.148176</td>\n",
              "      <td>0.170037</td>\n",
              "      <td>0.143919</td>\n",
              "      <td>0.295361</td>\n",
              "      <td>0.118398</td>\n",
              "      <td>0.114727</td>\n",
              "      <td>0.114981</td>\n",
              "      <td>0.090183</td>\n",
              "      <td>0.086733</td>\n",
              "      <td>3.672561</td>\n",
              "      <td>1.405511</td>\n",
              "      <td>1.21751</td>\n",
              "      <td>0.612787</td>\n",
              "      <td>0.677462</td>\n",
              "    </tr>\n",
              "    <tr>\n",
              "      <th>min</th>\n",
              "      <td>13.000000</td>\n",
              "      <td>0.000000</td>\n",
              "      <td>0.000000</td>\n",
              "      <td>16.00000</td>\n",
              "      <td>1.000000</td>\n",
              "      <td>0.000000</td>\n",
              "      <td>0.000000</td>\n",
              "      <td>0.000000</td>\n",
              "      <td>0.000000</td>\n",
              "      <td>0.000000</td>\n",
              "      <td>0.000000</td>\n",
              "      <td>0.000000</td>\n",
              "      <td>0.000000</td>\n",
              "      <td>0.000000</td>\n",
              "      <td>0.000000</td>\n",
              "      <td>0.000000</td>\n",
              "      <td>0.000000</td>\n",
              "      <td>0.000000</td>\n",
              "      <td>0.000000</td>\n",
              "      <td>0.000000</td>\n",
              "      <td>0.000000</td>\n",
              "      <td>0.000000</td>\n",
              "      <td>0.000000</td>\n",
              "      <td>0.000000</td>\n",
              "      <td>0.000000</td>\n",
              "      <td>0.000000</td>\n",
              "      <td>0.000000</td>\n",
              "      <td>0.000000</td>\n",
              "      <td>0.000000</td>\n",
              "      <td>0.0</td>\n",
              "      <td>0.0000</td>\n",
              "      <td>0.000000</td>\n",
              "      <td>0.000000</td>\n",
              "      <td>0.000000</td>\n",
              "      <td>0.000000</td>\n",
              "      <td>0.000000</td>\n",
              "      <td>0.000000</td>\n",
              "      <td>0.000000</td>\n",
              "      <td>0.000000</td>\n",
              "      <td>0.000000</td>\n",
              "      <td>0.000000</td>\n",
              "      <td>0.000000</td>\n",
              "      <td>0.000000</td>\n",
              "      <td>0.000000</td>\n",
              "      <td>0.000000</td>\n",
              "      <td>0.000000</td>\n",
              "      <td>0.000000</td>\n",
              "      <td>0.00000</td>\n",
              "      <td>0.000000</td>\n",
              "      <td>0.000000</td>\n",
              "    </tr>\n",
              "    <tr>\n",
              "      <th>25%</th>\n",
              "      <td>93526.750000</td>\n",
              "      <td>1.000000</td>\n",
              "      <td>5.000000</td>\n",
              "      <td>24.00000</td>\n",
              "      <td>10.000000</td>\n",
              "      <td>0.000000</td>\n",
              "      <td>0.000000</td>\n",
              "      <td>0.000000</td>\n",
              "      <td>0.000000</td>\n",
              "      <td>0.000000</td>\n",
              "      <td>0.000000</td>\n",
              "      <td>0.000000</td>\n",
              "      <td>0.000000</td>\n",
              "      <td>0.000000</td>\n",
              "      <td>0.000000</td>\n",
              "      <td>0.000000</td>\n",
              "      <td>0.000000</td>\n",
              "      <td>0.000000</td>\n",
              "      <td>0.000000</td>\n",
              "      <td>0.000000</td>\n",
              "      <td>0.000000</td>\n",
              "      <td>0.000000</td>\n",
              "      <td>0.000000</td>\n",
              "      <td>0.000000</td>\n",
              "      <td>0.000000</td>\n",
              "      <td>0.000000</td>\n",
              "      <td>0.000000</td>\n",
              "      <td>0.000000</td>\n",
              "      <td>0.000000</td>\n",
              "      <td>0.0</td>\n",
              "      <td>0.0000</td>\n",
              "      <td>0.000000</td>\n",
              "      <td>0.000000</td>\n",
              "      <td>0.000000</td>\n",
              "      <td>0.000000</td>\n",
              "      <td>0.000000</td>\n",
              "      <td>0.000000</td>\n",
              "      <td>0.000000</td>\n",
              "      <td>0.000000</td>\n",
              "      <td>0.000000</td>\n",
              "      <td>0.000000</td>\n",
              "      <td>0.000000</td>\n",
              "      <td>0.000000</td>\n",
              "      <td>0.000000</td>\n",
              "      <td>0.000000</td>\n",
              "      <td>3.000000</td>\n",
              "      <td>0.000000</td>\n",
              "      <td>0.00000</td>\n",
              "      <td>0.000000</td>\n",
              "      <td>0.000000</td>\n",
              "    </tr>\n",
              "    <tr>\n",
              "      <th>50%</th>\n",
              "      <td>187193.500000</td>\n",
              "      <td>3.000000</td>\n",
              "      <td>14.000000</td>\n",
              "      <td>29.00000</td>\n",
              "      <td>18.000000</td>\n",
              "      <td>0.000000</td>\n",
              "      <td>0.000000</td>\n",
              "      <td>0.000000</td>\n",
              "      <td>0.000000</td>\n",
              "      <td>1.000000</td>\n",
              "      <td>0.000000</td>\n",
              "      <td>1.000000</td>\n",
              "      <td>0.000000</td>\n",
              "      <td>0.000000</td>\n",
              "      <td>0.000000</td>\n",
              "      <td>0.000000</td>\n",
              "      <td>0.000000</td>\n",
              "      <td>0.000000</td>\n",
              "      <td>0.000000</td>\n",
              "      <td>0.000000</td>\n",
              "      <td>0.000000</td>\n",
              "      <td>0.000000</td>\n",
              "      <td>0.000000</td>\n",
              "      <td>0.000000</td>\n",
              "      <td>0.000000</td>\n",
              "      <td>0.000000</td>\n",
              "      <td>0.000000</td>\n",
              "      <td>0.000000</td>\n",
              "      <td>0.000000</td>\n",
              "      <td>0.0</td>\n",
              "      <td>0.0000</td>\n",
              "      <td>0.000000</td>\n",
              "      <td>0.000000</td>\n",
              "      <td>0.000000</td>\n",
              "      <td>0.000000</td>\n",
              "      <td>0.000000</td>\n",
              "      <td>0.000000</td>\n",
              "      <td>0.000000</td>\n",
              "      <td>0.000000</td>\n",
              "      <td>0.000000</td>\n",
              "      <td>0.000000</td>\n",
              "      <td>0.000000</td>\n",
              "      <td>0.000000</td>\n",
              "      <td>0.000000</td>\n",
              "      <td>0.000000</td>\n",
              "      <td>6.000000</td>\n",
              "      <td>0.000000</td>\n",
              "      <td>0.00000</td>\n",
              "      <td>0.000000</td>\n",
              "      <td>1.000000</td>\n",
              "    </tr>\n",
              "    <tr>\n",
              "      <th>75%</th>\n",
              "      <td>279984.250000</td>\n",
              "      <td>5.000000</td>\n",
              "      <td>19.000000</td>\n",
              "      <td>37.00000</td>\n",
              "      <td>28.000000</td>\n",
              "      <td>0.000000</td>\n",
              "      <td>0.000000</td>\n",
              "      <td>1.000000</td>\n",
              "      <td>0.000000</td>\n",
              "      <td>1.000000</td>\n",
              "      <td>1.000000</td>\n",
              "      <td>1.000000</td>\n",
              "      <td>1.000000</td>\n",
              "      <td>1.000000</td>\n",
              "      <td>0.000000</td>\n",
              "      <td>1.000000</td>\n",
              "      <td>1.000000</td>\n",
              "      <td>1.000000</td>\n",
              "      <td>0.000000</td>\n",
              "      <td>0.000000</td>\n",
              "      <td>0.000000</td>\n",
              "      <td>0.000000</td>\n",
              "      <td>0.000000</td>\n",
              "      <td>0.000000</td>\n",
              "      <td>0.000000</td>\n",
              "      <td>0.000000</td>\n",
              "      <td>0.000000</td>\n",
              "      <td>0.000000</td>\n",
              "      <td>0.000000</td>\n",
              "      <td>0.0</td>\n",
              "      <td>0.0000</td>\n",
              "      <td>0.000000</td>\n",
              "      <td>0.000000</td>\n",
              "      <td>0.000000</td>\n",
              "      <td>0.000000</td>\n",
              "      <td>0.000000</td>\n",
              "      <td>0.000000</td>\n",
              "      <td>0.000000</td>\n",
              "      <td>0.000000</td>\n",
              "      <td>0.000000</td>\n",
              "      <td>0.000000</td>\n",
              "      <td>0.000000</td>\n",
              "      <td>0.000000</td>\n",
              "      <td>0.000000</td>\n",
              "      <td>0.000000</td>\n",
              "      <td>8.000000</td>\n",
              "      <td>0.000000</td>\n",
              "      <td>1.00000</td>\n",
              "      <td>0.000000</td>\n",
              "      <td>1.000000</td>\n",
              "    </tr>\n",
              "    <tr>\n",
              "      <th>max</th>\n",
              "      <td>373662.000000</td>\n",
              "      <td>6.000000</td>\n",
              "      <td>23.000000</td>\n",
              "      <td>101.00000</td>\n",
              "      <td>325.000000</td>\n",
              "      <td>1.000000</td>\n",
              "      <td>1.000000</td>\n",
              "      <td>1.000000</td>\n",
              "      <td>1.000000</td>\n",
              "      <td>1.000000</td>\n",
              "      <td>1.000000</td>\n",
              "      <td>1.000000</td>\n",
              "      <td>1.000000</td>\n",
              "      <td>1.000000</td>\n",
              "      <td>1.000000</td>\n",
              "      <td>1.000000</td>\n",
              "      <td>1.000000</td>\n",
              "      <td>1.000000</td>\n",
              "      <td>1.000000</td>\n",
              "      <td>1.000000</td>\n",
              "      <td>1.000000</td>\n",
              "      <td>1.000000</td>\n",
              "      <td>1.000000</td>\n",
              "      <td>1.000000</td>\n",
              "      <td>1.000000</td>\n",
              "      <td>1.000000</td>\n",
              "      <td>1.000000</td>\n",
              "      <td>1.000000</td>\n",
              "      <td>1.000000</td>\n",
              "      <td>0.0</td>\n",
              "      <td>1.0000</td>\n",
              "      <td>1.000000</td>\n",
              "      <td>1.000000</td>\n",
              "      <td>1.000000</td>\n",
              "      <td>1.000000</td>\n",
              "      <td>1.000000</td>\n",
              "      <td>1.000000</td>\n",
              "      <td>1.000000</td>\n",
              "      <td>1.000000</td>\n",
              "      <td>1.000000</td>\n",
              "      <td>1.000000</td>\n",
              "      <td>1.000000</td>\n",
              "      <td>1.000000</td>\n",
              "      <td>1.000000</td>\n",
              "      <td>1.000000</td>\n",
              "      <td>35.000000</td>\n",
              "      <td>10.000000</td>\n",
              "      <td>5.00000</td>\n",
              "      <td>3.000000</td>\n",
              "      <td>3.000000</td>\n",
              "    </tr>\n",
              "  </tbody>\n",
              "</table>\n",
              "</div>"
            ],
            "text/plain": [
              "                user     dayofweek  ...       CCCount    LoansCount\n",
              "count   50000.000000  50000.000000  ...  50000.000000  50000.000000\n",
              "mean   186889.729900      3.029860  ...      0.176860      0.788400\n",
              "std    107768.520361      2.031997  ...      0.612787      0.677462\n",
              "min        13.000000      0.000000  ...      0.000000      0.000000\n",
              "25%     93526.750000      1.000000  ...      0.000000      0.000000\n",
              "50%    187193.500000      3.000000  ...      0.000000      1.000000\n",
              "75%    279984.250000      5.000000  ...      0.000000      1.000000\n",
              "max    373662.000000      6.000000  ...      3.000000      3.000000\n",
              "\n",
              "[8 rows x 50 columns]"
            ]
          },
          "metadata": {
            "tags": []
          },
          "execution_count": 21
        }
      ]
    },
    {
      "cell_type": "code",
      "metadata": {
        "ExecuteTime": {
          "end_time": "2021-02-10T08:33:21.134931Z",
          "start_time": "2021-02-10T08:33:21.123989Z"
        },
        "id": "qweV32B6KNgR",
        "colab": {
          "base_uri": "https://localhost:8080/"
        },
        "outputId": "a27d0dc9-e2d5-49d7-def7-29981ad1aab0"
      },
      "source": [
        "dataset.columns"
      ],
      "execution_count": null,
      "outputs": [
        {
          "output_type": "execute_result",
          "data": {
            "text/plain": [
              "Index(['user', 'dayofweek', 'hour', 'age', 'numscreens', 'minigame',\n",
              "       'used_premium_feature', 'enrolled', 'liked', 'location', 'Institutions',\n",
              "       'VerifyPhone', 'BankVerification', 'VerifyDateOfBirth', 'ProfilePage',\n",
              "       'VerifyCountry', 'Cycle', 'idscreen', 'Splash', 'RewardsContainer',\n",
              "       'EditProfile', 'Finances', 'Alerts', 'Leaderboard', 'VerifyMobile',\n",
              "       'VerifyHousing', 'RewardDetail', 'VerifyHousingAmount',\n",
              "       'ProfileMaritalStatus', 'ProfileChildren ', 'ProfileEducation',\n",
              "       'ProfileEducationMajor', 'Rewards', 'AccountView', 'VerifyAnnualIncome',\n",
              "       'VerifyIncomeType', 'ProfileJobTitle', 'Login',\n",
              "       'ProfileEmploymentLength', 'WebView', 'SecurityModal', 'ResendToken',\n",
              "       'TransactionList', 'NetworkFailure', 'ListPicker', 'Other',\n",
              "       'SavingCount', 'CMCount', 'CCCount', 'LoansCount'],\n",
              "      dtype='object')"
            ]
          },
          "metadata": {
            "tags": []
          },
          "execution_count": 22
        }
      ]
    },
    {
      "cell_type": "code",
      "metadata": {
        "ExecuteTime": {
          "end_time": "2021-02-10T08:33:21.510964Z",
          "start_time": "2021-02-10T08:33:21.137924Z"
        },
        "id": "zQ0LQ5wnKNgR"
      },
      "source": [
        "dataset.to_csv('new_appdata10.csv', index = False)"
      ],
      "execution_count": null,
      "outputs": []
    },
    {
      "cell_type": "code",
      "metadata": {
        "ExecuteTime": {
          "end_time": "2021-02-10T08:33:21.542858Z",
          "start_time": "2021-02-10T08:33:21.513919Z"
        },
        "id": "4ioMgDP0KNgS"
      },
      "source": [
        "#### Data Pre-Processing ####\n",
        "\n",
        "# Splitting Independent and Response Variables\n",
        "response = dataset[\"enrolled\"]\n",
        "dataset = dataset.drop(columns=\"enrolled\")"
      ],
      "execution_count": null,
      "outputs": []
    },
    {
      "cell_type": "code",
      "metadata": {
        "ExecuteTime": {
          "end_time": "2021-02-10T08:33:21.606321Z",
          "start_time": "2021-02-10T08:33:21.544855Z"
        },
        "id": "D3J1UcAGKNgS"
      },
      "source": [
        "# Splitting the dataset into the Training set and Test set\n",
        "from sklearn.model_selection import train_test_split\n",
        "X_train, X_test, y_train, y_test = train_test_split(dataset, response,\n",
        "                                                    test_size = 0.2,\n",
        "                                                    random_state = 0)"
      ],
      "execution_count": null,
      "outputs": []
    },
    {
      "cell_type": "code",
      "metadata": {
        "ExecuteTime": {
          "end_time": "2021-02-10T08:33:21.622309Z",
          "start_time": "2021-02-10T08:33:21.608318Z"
        },
        "id": "YyLeS6j2KNgS"
      },
      "source": [
        "# Removing Identifiers\n",
        "train_identity = X_train['user']\n",
        "X_train = X_train.drop(columns = ['user'])\n",
        "test_identity = X_test['user']\n",
        "X_test = X_test.drop(columns = ['user'])"
      ],
      "execution_count": null,
      "outputs": []
    },
    {
      "cell_type": "code",
      "metadata": {
        "ExecuteTime": {
          "end_time": "2021-02-10T08:33:21.728253Z",
          "start_time": "2021-02-10T08:33:21.625273Z"
        },
        "id": "pRFBJ96NKNgS"
      },
      "source": [
        "# Feature Scaling\n",
        "\n",
        "sc_X = StandardScaler()\n",
        "X_train2 = pd.DataFrame(sc_X.fit_transform(X_train))\n",
        "X_test2 = pd.DataFrame(sc_X.transform(X_test))\n",
        "X_train2.columns = X_train.columns.values\n",
        "X_test2.columns = X_test.columns.values\n",
        "X_train2.index = X_train.index.values\n",
        "X_test2.index = X_test.index.values\n",
        "X_train = X_train2\n",
        "X_test = X_test2"
      ],
      "execution_count": null,
      "outputs": []
    },
    {
      "cell_type": "code",
      "metadata": {
        "ExecuteTime": {
          "end_time": "2021-02-10T08:33:22.261703Z",
          "start_time": "2021-02-10T08:33:21.730999Z"
        },
        "id": "3Q-ekPocKNgT",
        "colab": {
          "base_uri": "https://localhost:8080/"
        },
        "outputId": "bf215df9-62df-4ee8-cd51-70cab91f4255"
      },
      "source": [
        "#### Model Building ####\n",
        "\n",
        "\n",
        "# Fitting Model to the Training Set\n",
        "from sklearn.linear_model import LogisticRegression\n",
        "classifier = LogisticRegression(random_state = 0, penalty = 'l1', solver='liblinear')\n",
        "classifier.fit(X_train, y_train)"
      ],
      "execution_count": null,
      "outputs": [
        {
          "output_type": "execute_result",
          "data": {
            "text/plain": [
              "LogisticRegression(C=1.0, class_weight=None, dual=False, fit_intercept=True,\n",
              "                   intercept_scaling=1, l1_ratio=None, max_iter=100,\n",
              "                   multi_class='auto', n_jobs=None, penalty='l1',\n",
              "                   random_state=0, solver='liblinear', tol=0.0001, verbose=0,\n",
              "                   warm_start=False)"
            ]
          },
          "metadata": {
            "tags": []
          },
          "execution_count": 28
        }
      ]
    },
    {
      "cell_type": "code",
      "metadata": {
        "ExecuteTime": {
          "end_time": "2021-02-10T08:33:22.277659Z",
          "start_time": "2021-02-10T08:33:22.263699Z"
        },
        "id": "-gy7XWYsKNgU"
      },
      "source": [
        "# Predicting Test Set\n",
        "y_pred = classifier.predict(X_test)"
      ],
      "execution_count": null,
      "outputs": []
    },
    {
      "cell_type": "code",
      "metadata": {
        "ExecuteTime": {
          "end_time": "2021-02-10T08:33:22.308576Z",
          "start_time": "2021-02-10T08:33:22.280652Z"
        },
        "id": "Rp_M3_nBKNgU",
        "colab": {
          "base_uri": "https://localhost:8080/"
        },
        "outputId": "0b9e282d-adcd-4256-9c91-ede79b8e71e2"
      },
      "source": [
        "from sklearn.metrics import confusion_matrix, accuracy_score, f1_score, precision_score, recall_score\n",
        "cm = confusion_matrix(y_test, y_pred)\n",
        "accuracy_score(y_test, y_pred)"
      ],
      "execution_count": null,
      "outputs": [
        {
          "output_type": "execute_result",
          "data": {
            "text/plain": [
              "0.7682"
            ]
          },
          "metadata": {
            "tags": []
          },
          "execution_count": 30
        }
      ]
    },
    {
      "cell_type": "code",
      "metadata": {
        "ExecuteTime": {
          "end_time": "2021-02-10T08:33:22.323546Z",
          "start_time": "2021-02-10T08:33:22.310572Z"
        },
        "id": "cHZBbhCrKNgU",
        "colab": {
          "base_uri": "https://localhost:8080/"
        },
        "outputId": "5e1fd624-7be3-4479-c5c3-4bfd7be76106"
      },
      "source": [
        "precision_score(y_test, y_pred) # tp / (tp + fp)"
      ],
      "execution_count": null,
      "outputs": [
        {
          "output_type": "execute_result",
          "data": {
            "text/plain": [
              "0.7618952017667135"
            ]
          },
          "metadata": {
            "tags": []
          },
          "execution_count": 31
        }
      ]
    },
    {
      "cell_type": "code",
      "metadata": {
        "ExecuteTime": {
          "end_time": "2021-02-10T08:33:22.338498Z",
          "start_time": "2021-02-10T08:33:22.325532Z"
        },
        "id": "nL7h55RqKNgV",
        "colab": {
          "base_uri": "https://localhost:8080/"
        },
        "outputId": "02a720ec-5f4f-48cb-a5d3-8668506abac7"
      },
      "source": [
        "recall_score(y_test, y_pred) # tp / (tp + fn)"
      ],
      "execution_count": null,
      "outputs": [
        {
          "output_type": "execute_result",
          "data": {
            "text/plain": [
              "0.7702455855490157"
            ]
          },
          "metadata": {
            "tags": []
          },
          "execution_count": 32
        }
      ]
    },
    {
      "cell_type": "code",
      "metadata": {
        "ExecuteTime": {
          "end_time": "2021-02-10T08:33:22.353457Z",
          "start_time": "2021-02-10T08:33:22.339494Z"
        },
        "id": "wPCVInQiKNgV",
        "colab": {
          "base_uri": "https://localhost:8080/"
        },
        "outputId": "e5aaadb8-5ba9-4ae2-d29d-557a836446f9"
      },
      "source": [
        "f1_score(y_test, y_pred)"
      ],
      "execution_count": null,
      "outputs": [
        {
          "output_type": "execute_result",
          "data": {
            "text/plain": [
              "0.7660476382721035"
            ]
          },
          "metadata": {
            "tags": []
          },
          "execution_count": 33
        }
      ]
    },
    {
      "cell_type": "code",
      "metadata": {
        "ExecuteTime": {
          "end_time": "2021-02-10T08:33:22.573869Z",
          "start_time": "2021-02-10T08:33:22.355452Z"
        },
        "id": "vSXvQ0YYKNgV",
        "colab": {
          "base_uri": "https://localhost:8080/",
          "height": 453
        },
        "outputId": "010f3171-9c32-4c7d-e472-d8c05b6ebdec"
      },
      "source": [
        "df_cm = pd.DataFrame(cm, index = (0, 1), columns = (0, 1))\n",
        "plt.figure(figsize = (10,7))\n",
        "sn.set(font_scale=1.4)\n",
        "sn.heatmap(df_cm, annot=True, fmt='g')\n",
        "print(\"Test Data Accuracy: %0.4f\" % accuracy_score(y_test, y_pred))"
      ],
      "execution_count": null,
      "outputs": [
        {
          "output_type": "stream",
          "text": [
            "Test Data Accuracy: 0.7682\n"
          ],
          "name": "stdout"
        },
        {
          "output_type": "display_data",
          "data": {
            "image/png": "[encoded data removed]",
            "text/plain": [
              "<Figure size 720x504 with 2 Axes>"
            ]
          },
          "metadata": {
            "tags": []
          }
        }
      ]
    },
    {
      "cell_type": "code",
      "metadata": {
        "ExecuteTime": {
          "end_time": "2021-02-10T08:33:26.854429Z",
          "start_time": "2021-02-10T08:33:22.575863Z"
        },
        "id": "-3VEzXqiKNgV",
        "colab": {
          "base_uri": "https://localhost:8080/"
        },
        "outputId": "d441eef6-d2e9-4321-defb-5e84bd29c699"
      },
      "source": [
        "# Applying k-Fold Cross Validation\n",
        "from sklearn.model_selection import cross_val_score\n",
        "accuracies = cross_val_score(estimator = classifier, X = X_train, y = y_train, cv = 10)\n",
        "print(\"Accuracy: %0.3f (+/- %0.3f)\" % (accuracies.mean(), accuracies.std() * 2))"
      ],
      "execution_count": null,
      "outputs": [
        {
          "output_type": "stream",
          "text": [
            "Accuracy: 0.767 (+/- 0.009)\n"
          ],
          "name": "stdout"
        }
      ]
    },
    {
      "cell_type": "code",
      "metadata": {
        "ExecuteTime": {
          "end_time": "2021-02-10T08:33:26.887383Z",
          "start_time": "2021-02-10T08:33:26.857420Z"
        },
        "id": "0tD9rVYvKNgW",
        "colab": {
          "base_uri": "https://localhost:8080/",
          "height": 1000
        },
        "outputId": "6488e653-5ae6-485f-9243-3d7274daf3fe"
      },
      "source": [
        "# Analyzing Coefficients\n",
        "pd.concat([pd.DataFrame(dataset.drop(columns = 'user').columns, columns = [\"features\"]),\n",
        "           pd.DataFrame(np.transpose(classifier.coef_), columns = [\"coef\"])\n",
        "           ],axis = 1)\n"
      ],
      "execution_count": null,
      "outputs": [
        {
          "output_type": "execute_result",
          "data": {
            "text/html": [
              "<div>\n",
              "<style scoped>\n",
              "    .dataframe tbody tr th:only-of-type {\n",
              "        vertical-align: middle;\n",
              "    }\n",
              "\n",
              "    .dataframe tbody tr th {\n",
              "        vertical-align: top;\n",
              "    }\n",
              "\n",
              "    .dataframe thead th {\n",
              "        text-align: right;\n",
              "    }\n",
              "</style>\n",
              "<table border=\"1\" class=\"dataframe\">\n",
              "  <thead>\n",
              "    <tr style=\"text-align: right;\">\n",
              "      <th></th>\n",
              "      <th>features</th>\n",
              "      <th>coef</th>\n",
              "    </tr>\n",
              "  </thead>\n",
              "  <tbody>\n",
              "    <tr>\n",
              "      <th>0</th>\n",
              "      <td>dayofweek</td>\n",
              "      <td>0.032571</td>\n",
              "    </tr>\n",
              "    <tr>\n",
              "      <th>1</th>\n",
              "      <td>hour</td>\n",
              "      <td>-0.003605</td>\n",
              "    </tr>\n",
              "    <tr>\n",
              "      <th>2</th>\n",
              "      <td>age</td>\n",
              "      <td>-0.149681</td>\n",
              "    </tr>\n",
              "    <tr>\n",
              "      <th>3</th>\n",
              "      <td>numscreens</td>\n",
              "      <td>-0.130640</td>\n",
              "    </tr>\n",
              "    <tr>\n",
              "      <th>4</th>\n",
              "      <td>minigame</td>\n",
              "      <td>-0.026465</td>\n",
              "    </tr>\n",
              "    <tr>\n",
              "      <th>5</th>\n",
              "      <td>used_premium_feature</td>\n",
              "      <td>-0.065915</td>\n",
              "    </tr>\n",
              "    <tr>\n",
              "      <th>6</th>\n",
              "      <td>liked</td>\n",
              "      <td>0.010690</td>\n",
              "    </tr>\n",
              "    <tr>\n",
              "      <th>7</th>\n",
              "      <td>location</td>\n",
              "      <td>-0.028322</td>\n",
              "    </tr>\n",
              "    <tr>\n",
              "      <th>8</th>\n",
              "      <td>Institutions</td>\n",
              "      <td>-0.062195</td>\n",
              "    </tr>\n",
              "    <tr>\n",
              "      <th>9</th>\n",
              "      <td>VerifyPhone</td>\n",
              "      <td>0.650344</td>\n",
              "    </tr>\n",
              "    <tr>\n",
              "      <th>10</th>\n",
              "      <td>BankVerification</td>\n",
              "      <td>0.050429</td>\n",
              "    </tr>\n",
              "    <tr>\n",
              "      <th>11</th>\n",
              "      <td>VerifyDateOfBirth</td>\n",
              "      <td>0.123865</td>\n",
              "    </tr>\n",
              "    <tr>\n",
              "      <th>12</th>\n",
              "      <td>ProfilePage</td>\n",
              "      <td>-0.124110</td>\n",
              "    </tr>\n",
              "    <tr>\n",
              "      <th>13</th>\n",
              "      <td>VerifyCountry</td>\n",
              "      <td>-0.317696</td>\n",
              "    </tr>\n",
              "    <tr>\n",
              "      <th>14</th>\n",
              "      <td>Cycle</td>\n",
              "      <td>0.007307</td>\n",
              "    </tr>\n",
              "    <tr>\n",
              "      <th>15</th>\n",
              "      <td>idscreen</td>\n",
              "      <td>0.163278</td>\n",
              "    </tr>\n",
              "    <tr>\n",
              "      <th>16</th>\n",
              "      <td>Splash</td>\n",
              "      <td>0.025085</td>\n",
              "    </tr>\n",
              "    <tr>\n",
              "      <th>17</th>\n",
              "      <td>RewardsContainer</td>\n",
              "      <td>-0.007427</td>\n",
              "    </tr>\n",
              "    <tr>\n",
              "      <th>18</th>\n",
              "      <td>EditProfile</td>\n",
              "      <td>0.044307</td>\n",
              "    </tr>\n",
              "    <tr>\n",
              "      <th>19</th>\n",
              "      <td>Finances</td>\n",
              "      <td>0.019803</td>\n",
              "    </tr>\n",
              "    <tr>\n",
              "      <th>20</th>\n",
              "      <td>Alerts</td>\n",
              "      <td>-0.211654</td>\n",
              "    </tr>\n",
              "    <tr>\n",
              "      <th>21</th>\n",
              "      <td>Leaderboard</td>\n",
              "      <td>-0.006514</td>\n",
              "    </tr>\n",
              "    <tr>\n",
              "      <th>22</th>\n",
              "      <td>VerifyMobile</td>\n",
              "      <td>0.309487</td>\n",
              "    </tr>\n",
              "    <tr>\n",
              "      <th>23</th>\n",
              "      <td>VerifyHousing</td>\n",
              "      <td>0.063287</td>\n",
              "    </tr>\n",
              "    <tr>\n",
              "      <th>24</th>\n",
              "      <td>RewardDetail</td>\n",
              "      <td>-0.002814</td>\n",
              "    </tr>\n",
              "    <tr>\n",
              "      <th>25</th>\n",
              "      <td>VerifyHousingAmount</td>\n",
              "      <td>0.034473</td>\n",
              "    </tr>\n",
              "    <tr>\n",
              "      <th>26</th>\n",
              "      <td>ProfileMaritalStatus</td>\n",
              "      <td>-0.062451</td>\n",
              "    </tr>\n",
              "    <tr>\n",
              "      <th>27</th>\n",
              "      <td>ProfileChildren</td>\n",
              "      <td>0.000000</td>\n",
              "    </tr>\n",
              "    <tr>\n",
              "      <th>28</th>\n",
              "      <td>ProfileEducation</td>\n",
              "      <td>-0.000292</td>\n",
              "    </tr>\n",
              "    <tr>\n",
              "      <th>29</th>\n",
              "      <td>ProfileEducationMajor</td>\n",
              "      <td>-0.024621</td>\n",
              "    </tr>\n",
              "    <tr>\n",
              "      <th>30</th>\n",
              "      <td>Rewards</td>\n",
              "      <td>0.047609</td>\n",
              "    </tr>\n",
              "    <tr>\n",
              "      <th>31</th>\n",
              "      <td>AccountView</td>\n",
              "      <td>-0.049910</td>\n",
              "    </tr>\n",
              "    <tr>\n",
              "      <th>32</th>\n",
              "      <td>VerifyAnnualIncome</td>\n",
              "      <td>0.087896</td>\n",
              "    </tr>\n",
              "    <tr>\n",
              "      <th>33</th>\n",
              "      <td>VerifyIncomeType</td>\n",
              "      <td>-0.073422</td>\n",
              "    </tr>\n",
              "    <tr>\n",
              "      <th>34</th>\n",
              "      <td>ProfileJobTitle</td>\n",
              "      <td>0.009448</td>\n",
              "    </tr>\n",
              "    <tr>\n",
              "      <th>35</th>\n",
              "      <td>Login</td>\n",
              "      <td>-0.103638</td>\n",
              "    </tr>\n",
              "    <tr>\n",
              "      <th>36</th>\n",
              "      <td>ProfileEmploymentLength</td>\n",
              "      <td>-0.054235</td>\n",
              "    </tr>\n",
              "    <tr>\n",
              "      <th>37</th>\n",
              "      <td>WebView</td>\n",
              "      <td>-0.067385</td>\n",
              "    </tr>\n",
              "    <tr>\n",
              "      <th>38</th>\n",
              "      <td>SecurityModal</td>\n",
              "      <td>0.012337</td>\n",
              "    </tr>\n",
              "    <tr>\n",
              "      <th>39</th>\n",
              "      <td>ResendToken</td>\n",
              "      <td>-0.067562</td>\n",
              "    </tr>\n",
              "    <tr>\n",
              "      <th>40</th>\n",
              "      <td>TransactionList</td>\n",
              "      <td>-0.048690</td>\n",
              "    </tr>\n",
              "    <tr>\n",
              "      <th>41</th>\n",
              "      <td>NetworkFailure</td>\n",
              "      <td>-0.006451</td>\n",
              "    </tr>\n",
              "    <tr>\n",
              "      <th>42</th>\n",
              "      <td>ListPicker</td>\n",
              "      <td>-0.033407</td>\n",
              "    </tr>\n",
              "    <tr>\n",
              "      <th>43</th>\n",
              "      <td>Other</td>\n",
              "      <td>0.952654</td>\n",
              "    </tr>\n",
              "    <tr>\n",
              "      <th>44</th>\n",
              "      <td>SavingCount</td>\n",
              "      <td>0.000526</td>\n",
              "    </tr>\n",
              "    <tr>\n",
              "      <th>45</th>\n",
              "      <td>CMCount</td>\n",
              "      <td>0.576315</td>\n",
              "    </tr>\n",
              "    <tr>\n",
              "      <th>46</th>\n",
              "      <td>CCCount</td>\n",
              "      <td>0.029512</td>\n",
              "    </tr>\n",
              "    <tr>\n",
              "      <th>47</th>\n",
              "      <td>LoansCount</td>\n",
              "      <td>-0.490047</td>\n",
              "    </tr>\n",
              "  </tbody>\n",
              "</table>\n",
              "</div>"
            ],
            "text/plain": [
              "                   features      coef\n",
              "0                 dayofweek  0.032571\n",
              "1                      hour -0.003605\n",
              "2                       age -0.149681\n",
              "3                numscreens -0.130640\n",
              "4                  minigame -0.026465\n",
              "5      used_premium_feature -0.065915\n",
              "6                     liked  0.010690\n",
              "7                  location -0.028322\n",
              "8              Institutions -0.062195\n",
              "9               VerifyPhone  0.650344\n",
              "10         BankVerification  0.050429\n",
              "11        VerifyDateOfBirth  0.123865\n",
              "12              ProfilePage -0.124110\n",
              "13            VerifyCountry -0.317696\n",
              "14                    Cycle  0.007307\n",
              "15                 idscreen  0.163278\n",
              "16                   Splash  0.025085\n",
              "17         RewardsContainer -0.007427\n",
              "18              EditProfile  0.044307\n",
              "19                 Finances  0.019803\n",
              "20                   Alerts -0.211654\n",
              "21              Leaderboard -0.006514\n",
              "22             VerifyMobile  0.309487\n",
              "23            VerifyHousing  0.063287\n",
              "24             RewardDetail -0.002814\n",
              "25      VerifyHousingAmount  0.034473\n",
              "26     ProfileMaritalStatus -0.062451\n",
              "27         ProfileChildren   0.000000\n",
              "28         ProfileEducation -0.000292\n",
              "29    ProfileEducationMajor -0.024621\n",
              "30                  Rewards  0.047609\n",
              "31              AccountView -0.049910\n",
              "32       VerifyAnnualIncome  0.087896\n",
              "33         VerifyIncomeType -0.073422\n",
              "34          ProfileJobTitle  0.009448\n",
              "35                    Login -0.103638\n",
              "36  ProfileEmploymentLength -0.054235\n",
              "37                  WebView -0.067385\n",
              "38            SecurityModal  0.012337\n",
              "39              ResendToken -0.067562\n",
              "40          TransactionList -0.048690\n",
              "41           NetworkFailure -0.006451\n",
              "42               ListPicker -0.033407\n",
              "43                    Other  0.952654\n",
              "44              SavingCount  0.000526\n",
              "45                  CMCount  0.576315\n",
              "46                  CCCount  0.029512\n",
              "47               LoansCount -0.490047"
            ]
          },
          "metadata": {
            "tags": []
          },
          "execution_count": 36
        }
      ]
    },
    {
      "cell_type": "code",
      "metadata": {
        "ExecuteTime": {
          "end_time": "2021-02-10T08:33:59.541175Z",
          "start_time": "2021-02-10T08:33:26.890333Z"
        },
        "id": "h9VbBh4LKNgW",
        "colab": {
          "base_uri": "https://localhost:8080/"
        },
        "outputId": "4f84542e-8f7b-481a-d896-6ca266cf296a"
      },
      "source": [
        "#### Model Tuning ####\n",
        "\n",
        "## Grid Search (Round 1)\n",
        "from sklearn.model_selection import GridSearchCV\n",
        "\n",
        "# Select Regularization Method\n",
        "penalty = ['l1', 'l2']\n",
        "\n",
        "# Create regularization hyperparameter space\n",
        "C = [0.001, 0.01, 0.1, 1, 10, 100, 1000]\n",
        "\n",
        "# Combine Parameters\n",
        "parameters = dict(C=C, penalty=penalty)\n",
        "\n",
        "grid_search = GridSearchCV(estimator = classifier,\n",
        "                           param_grid = parameters,\n",
        "                           scoring = \"accuracy\",\n",
        "                           cv = 10,\n",
        "                           n_jobs = -1)\n",
        "t0 = time.time()\n",
        "grid_search = grid_search.fit(X_train, y_train)\n",
        "t1 = time.time()\n",
        "print(\"Took %0.2f seconds\" % (t1 - t0))"
      ],
      "execution_count": null,
      "outputs": [
        {
          "output_type": "stream",
          "text": [
            "Took 39.53 seconds\n"
          ],
          "name": "stdout"
        }
      ]
    },
    {
      "cell_type": "code",
      "metadata": {
        "ExecuteTime": {
          "end_time": "2021-02-10T08:33:59.557110Z",
          "start_time": "2021-02-10T08:33:59.545139Z"
        },
        "id": "-OrKNY0EKNgW",
        "colab": {
          "base_uri": "https://localhost:8080/"
        },
        "outputId": "c0ee236c-1c6c-4569-b664-c7827f453d2d"
      },
      "source": [
        "rf_best_accuracy = grid_search.best_score_\n",
        "rf_best_parameters = grid_search.best_params_\n",
        "rf_best_accuracy, rf_best_parameters"
      ],
      "execution_count": null,
      "outputs": [
        {
          "output_type": "execute_result",
          "data": {
            "text/plain": [
              "(0.76735, {'C': 0.01, 'penalty': 'l2'})"
            ]
          },
          "metadata": {
            "tags": []
          },
          "execution_count": 38
        }
      ]
    },
    {
      "cell_type": "code",
      "metadata": {
        "ExecuteTime": {
          "end_time": "2021-02-10T08:34:28.449791Z",
          "start_time": "2021-02-10T08:33:59.565086Z"
        },
        "id": "n8747-BwKNgX",
        "colab": {
          "base_uri": "https://localhost:8080/"
        },
        "outputId": "25b640ee-99d9-48b7-e855-c74de973bda3"
      },
      "source": [
        "## Grid Search (Round 2)\n",
        "\n",
        "# Select Regularization Method\n",
        "penalty = ['l1', 'l2']\n",
        "\n",
        "# Create regularization hyperparameter space\n",
        "C = [0.1, 0.5, 0.9, 1, 2, 5]\n",
        "\n",
        "# Combine Parameters\n",
        "parameters = dict(C=C, penalty=penalty)\n",
        "\n",
        "grid_search = GridSearchCV(estimator = classifier,\n",
        "                           param_grid = parameters,\n",
        "                           scoring = \"accuracy\",\n",
        "                           cv = 10,\n",
        "                           n_jobs = -1)\n",
        "t0 = time.time()\n",
        "grid_search = grid_search.fit(X_train, y_train)\n",
        "t1 = time.time()\n",
        "print(\"Took %0.2f seconds\" % (t1 - t0))"
      ],
      "execution_count": null,
      "outputs": [
        {
          "output_type": "stream",
          "text": [
            "Took 37.78 seconds\n"
          ],
          "name": "stdout"
        }
      ]
    },
    {
      "cell_type": "code",
      "metadata": {
        "ExecuteTime": {
          "end_time": "2021-02-10T08:34:28.465769Z",
          "start_time": "2021-02-10T08:34:28.452783Z"
        },
        "id": "51i_0eWGKNgX",
        "colab": {
          "base_uri": "https://localhost:8080/"
        },
        "outputId": "7be07a6d-e966-431a-ab0c-e6a80ebb0c70"
      },
      "source": [
        "rf_best_accuracy = grid_search.best_score_\n",
        "rf_best_parameters = grid_search.best_params_\n",
        "rf_best_accuracy, rf_best_parameters"
      ],
      "execution_count": null,
      "outputs": [
        {
          "output_type": "execute_result",
          "data": {
            "text/plain": [
              "(0.76725, {'C': 0.5, 'penalty': 'l2'})"
            ]
          },
          "metadata": {
            "tags": []
          },
          "execution_count": 40
        }
      ]
    },
    {
      "cell_type": "code",
      "metadata": {
        "ExecuteTime": {
          "end_time": "2021-02-10T08:34:28.495668Z",
          "start_time": "2021-02-10T08:34:28.470736Z"
        },
        "id": "NgVHEodoKNgY",
        "colab": {
          "base_uri": "https://localhost:8080/"
        },
        "outputId": "5108979a-3bba-4d8a-c400-0ab86d7b4d03"
      },
      "source": [
        "grid_search.best_score_"
      ],
      "execution_count": null,
      "outputs": [
        {
          "output_type": "execute_result",
          "data": {
            "text/plain": [
              "0.76725"
            ]
          },
          "metadata": {
            "tags": []
          },
          "execution_count": 41
        }
      ]
    },
    {
      "cell_type": "code",
      "metadata": {
        "ExecuteTime": {
          "end_time": "2021-02-10T08:34:28.527685Z",
          "start_time": "2021-02-10T08:34:28.498675Z"
        },
        "id": "HIWe-GCrKNgY"
      },
      "source": [
        "# Formatting Final Results\n",
        "final_results = pd.concat([y_test, test_identity], axis = 1).dropna()\n",
        "final_results['predicted_reach'] = y_pred\n",
        "final_results = final_results[['user', 'enrolled', 'predicted_reach']].reset_index(drop=True)"
      ],
      "execution_count": null,
      "outputs": []
    },
    {
      "cell_type": "code",
      "metadata": {
        "ExecuteTime": {
          "end_time": "2021-02-10T08:34:42.972973Z",
          "start_time": "2021-02-10T08:34:42.952989Z"
        },
        "id": "AKdAtN_TKNgY",
        "colab": {
          "base_uri": "https://localhost:8080/",
          "height": 402
        },
        "outputId": "fdcefc80-50b9-4989-d82f-648892c516b0"
      },
      "source": [
        "final_results"
      ],
      "execution_count": null,
      "outputs": [
        {
          "output_type": "execute_result",
          "data": {
            "text/html": [
              "<div>\n",
              "<style scoped>\n",
              "    .dataframe tbody tr th:only-of-type {\n",
              "        vertical-align: middle;\n",
              "    }\n",
              "\n",
              "    .dataframe tbody tr th {\n",
              "        vertical-align: top;\n",
              "    }\n",
              "\n",
              "    .dataframe thead th {\n",
              "        text-align: right;\n",
              "    }\n",
              "</style>\n",
              "<table border=\"1\" class=\"dataframe\">\n",
              "  <thead>\n",
              "    <tr style=\"text-align: right;\">\n",
              "      <th></th>\n",
              "      <th>user</th>\n",
              "      <th>enrolled</th>\n",
              "      <th>predicted_reach</th>\n",
              "    </tr>\n",
              "  </thead>\n",
              "  <tbody>\n",
              "    <tr>\n",
              "      <th>0</th>\n",
              "      <td>239786</td>\n",
              "      <td>1</td>\n",
              "      <td>1</td>\n",
              "    </tr>\n",
              "    <tr>\n",
              "      <th>1</th>\n",
              "      <td>279644</td>\n",
              "      <td>1</td>\n",
              "      <td>1</td>\n",
              "    </tr>\n",
              "    <tr>\n",
              "      <th>2</th>\n",
              "      <td>98290</td>\n",
              "      <td>0</td>\n",
              "      <td>0</td>\n",
              "    </tr>\n",
              "    <tr>\n",
              "      <th>3</th>\n",
              "      <td>170150</td>\n",
              "      <td>1</td>\n",
              "      <td>1</td>\n",
              "    </tr>\n",
              "    <tr>\n",
              "      <th>4</th>\n",
              "      <td>237568</td>\n",
              "      <td>1</td>\n",
              "      <td>1</td>\n",
              "    </tr>\n",
              "    <tr>\n",
              "      <th>...</th>\n",
              "      <td>...</td>\n",
              "      <td>...</td>\n",
              "      <td>...</td>\n",
              "    </tr>\n",
              "    <tr>\n",
              "      <th>9995</th>\n",
              "      <td>143036</td>\n",
              "      <td>1</td>\n",
              "      <td>0</td>\n",
              "    </tr>\n",
              "    <tr>\n",
              "      <th>9996</th>\n",
              "      <td>91158</td>\n",
              "      <td>1</td>\n",
              "      <td>1</td>\n",
              "    </tr>\n",
              "    <tr>\n",
              "      <th>9997</th>\n",
              "      <td>248318</td>\n",
              "      <td>0</td>\n",
              "      <td>0</td>\n",
              "    </tr>\n",
              "    <tr>\n",
              "      <th>9998</th>\n",
              "      <td>142418</td>\n",
              "      <td>1</td>\n",
              "      <td>1</td>\n",
              "    </tr>\n",
              "    <tr>\n",
              "      <th>9999</th>\n",
              "      <td>279355</td>\n",
              "      <td>1</td>\n",
              "      <td>1</td>\n",
              "    </tr>\n",
              "  </tbody>\n",
              "</table>\n",
              "<p>10000 rows × 3 columns</p>\n",
              "</div>"
            ],
            "text/plain": [
              "        user  enrolled  predicted_reach\n",
              "0     239786         1                1\n",
              "1     279644         1                1\n",
              "2      98290         0                0\n",
              "3     170150         1                1\n",
              "4     237568         1                1\n",
              "...      ...       ...              ...\n",
              "9995  143036         1                0\n",
              "9996   91158         1                1\n",
              "9997  248318         0                0\n",
              "9998  142418         1                1\n",
              "9999  279355         1                1\n",
              "\n",
              "[10000 rows x 3 columns]"
            ]
          },
          "metadata": {
            "tags": []
          },
          "execution_count": 43
        }
      ]
    },
    {
      "cell_type": "code",
      "metadata": {
        "id": "rvsrnL47KNgZ"
      },
      "source": [
        ""
      ],
      "execution_count": null,
      "outputs": []
    }
  ]
}